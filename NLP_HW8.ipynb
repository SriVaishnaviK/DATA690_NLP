{
  "nbformat": 4,
  "nbformat_minor": 0,
  "metadata": {
    "colab": {
      "provenance": []
    },
    "kernelspec": {
      "name": "python3",
      "display_name": "Python 3"
    },
    "language_info": {
      "name": "python"
    }
  },
  "cells": [
    {
      "cell_type": "markdown",
      "source": [
        "**Exercise 1 Accuracy of classifier model with Keras**\n",
        "1. Import the 'one_hot', 'pad_sequences', 'Sequential', 'Dense, Flatten',\n",
        "'Embedding', and 'pandas' libraries.\n",
        "2. Define the corpus with the following sentences: This is good pizza, I\n",
        "love Italian pizza, The best pizza, nice pizza, Excellent pizza, I love\n",
        "pizza, The pizza was alright, disgusting pineapple pizza, not good\n",
        "pizza, bad pizza, very bad pizza, I had better pizza.\n",
        "3. Create class labels for each sentence '1' for positive and '0' for\n",
        "negative.\n",
        "4. Create a data frame with 'text' as corpus and 'sentiment' as labels.\n",
        "5. Extract the vocabulary from the corpus and encode it.\n",
        "6. Pad the document to the maximum length of the longest sentences to\n",
        "have uniform length.\n",
        "7. Define the model with Keras with Embedding (None, 5.8) as output\n",
        "shape, Flatten (None, 40), and Dense (None, 1).\n",
        "8. Use epochs = 50, optimizer ='adam', loss='binary_crossentropy', and\n",
        "metrics=['acc'].\n",
        "9. What are your conclusions about the model?\n",
        "\n",
        "**Exercise 2**\n",
        "\n",
        "1. Load nltk, pandas, re, numpy, and matplotlb.\n",
        "2. Use the Tweets.csv file in Google Drive\n",
        "\n",
        "3. Take a look at the first five rows.\n",
        "4. Plot the shares of airlines mentioned in the data.\n",
        "5. Plot the percentage of positive, negative, and neutral sentiments.\n",
        "6. In a bar chart, show the number of positive, negative, and neutral\n",
        "comments by airline.\n",
        "7. Using Seaborn, show airlines' sentiment confidence.\n",
        "8. Define the features and labels.\n",
        "9. Clean the tweets.\n",
        "10. Vectorize the tweets.\n",
        "11. Create a train and test (20%) dataset.\n",
        "12. Import the RandomClassifier model.\n",
        "13. Define the 'predictions'.\n",
        "14. Generate the confusion matrix, the classification report, and the\n",
        "accuracy score.\n",
        "15. What is your conclusion?"
      ],
      "metadata": {
        "id": "l7gz0-FwmkcD"
      }
    },
    {
      "cell_type": "markdown",
      "source": [],
      "metadata": {
        "id": "fCTXt9ivnDxk"
      }
    },
    {
      "cell_type": "code",
      "execution_count": 1,
      "metadata": {
        "id": "yB8wMUCXk4bE"
      },
      "outputs": [],
      "source": [
        "import numpy as np\n",
        "import pandas as pd\n",
        "from tensorflow.keras.preprocessing.text import Tokenizer\n",
        "from tensorflow.keras.preprocessing.sequence import pad_sequences\n",
        "from tensorflow.keras.models import Sequential\n",
        "from tensorflow.keras.layers import Dense, Flatten, Embedding\n"
      ]
    },
    {
      "cell_type": "code",
      "source": [
        "corpus = [\n",
        "    \"This is good pizza\",\n",
        "    \"I love Italian pizza\",\n",
        "    \"The best pizza\",\n",
        "    \"nice pizza\",\n",
        "    \"Excellent pizza\",\n",
        "    \"I love pizza\",\n",
        "    \"The pizza was alright\",\n",
        "    \"disgusting pineapple pizza\",\n",
        "    \"not good pizza\",\n",
        "    \"bad pizza\",\n",
        "    \"very bad pizza\",\n",
        "    \"I had better pizza\"\n",
        "]\n"
      ],
      "metadata": {
        "id": "MG7UqUtxpJPz"
      },
      "execution_count": 2,
      "outputs": []
    },
    {
      "cell_type": "code",
      "source": [
        "class_labels = [1, 1, 1, 1, 1, 1, 0, 0, 0, 0, 0, 1]\n",
        "class_labels = np.array(class_labels)"
      ],
      "metadata": {
        "id": "EBUk2g2qtimR"
      },
      "execution_count": 3,
      "outputs": []
    },
    {
      "cell_type": "code",
      "source": [
        "df = pd.DataFrame({'text': corpus, 'sentiment': class_labels})\n",
        "print(df)"
      ],
      "metadata": {
        "colab": {
          "base_uri": "https://localhost:8080/"
        },
        "id": "29M7Vdbb_2ak",
        "outputId": "5d0b2eb8-d5da-4f8b-c6ae-b2ed2ebe43c1"
      },
      "execution_count": 4,
      "outputs": [
        {
          "output_type": "stream",
          "name": "stdout",
          "text": [
            "                          text  sentiment\n",
            "0           This is good pizza          1\n",
            "1         I love Italian pizza          1\n",
            "2               The best pizza          1\n",
            "3                   nice pizza          1\n",
            "4              Excellent pizza          1\n",
            "5                 I love pizza          1\n",
            "6        The pizza was alright          0\n",
            "7   disgusting pineapple pizza          0\n",
            "8               not good pizza          0\n",
            "9                    bad pizza          0\n",
            "10              very bad pizza          0\n",
            "11          I had better pizza          1\n"
          ]
        }
      ]
    },
    {
      "cell_type": "code",
      "source": [
        "token = Tokenizer()\n",
        "token.fit_on_texts(corpus)\n",
        "\n",
        "corpus_encoded = token.texts_to_sequences(corpus)"
      ],
      "metadata": {
        "id": "xV5bw_suxpjC"
      },
      "execution_count": 5,
      "outputs": []
    },
    {
      "cell_type": "code",
      "source": [
        "max_length = max([len(sentence) for sentence in corpus_encoded])\n",
        "padded_corpus = pad_sequences(corpus_encoded, maxlen=max_length, padding='post')\n",
        "\n",
        "req_model = Sequential()\n",
        "req_model.add(Embedding(input_dim=len(token.word_index) + 1, output_dim=8, input_length=max_length))\n",
        "req_model.add(Flatten())\n",
        "req_model.add(Dense(1, activation='sigmoid'))"
      ],
      "metadata": {
        "id": "lEDGgqnwyS1L"
      },
      "execution_count": 6,
      "outputs": []
    },
    {
      "cell_type": "code",
      "source": [
        "req_model.compile(optimizer='adam', loss='binary_crossentropy', metrics=['accuracy'])\n",
        "\n",
        "\n",
        "req_model.fit(padded_corpus, class_labels, epochs=50)\n",
        "#Model Evaluation\n",
        "loss, accuracy = req_model.evaluate(padded_corpus, class_labels)\n",
        "print(f\"Model Accuracy: {accuracy * 100:.2f}%\")"
      ],
      "metadata": {
        "colab": {
          "base_uri": "https://localhost:8080/"
        },
        "id": "gV6EW32JyWiz",
        "outputId": "b620fdae-437d-470d-a5b6-04c012aca6b4"
      },
      "execution_count": 7,
      "outputs": [
        {
          "output_type": "stream",
          "name": "stdout",
          "text": [
            "Epoch 1/50\n",
            "1/1 [==============================] - 1s 534ms/step - loss: 0.6996 - accuracy: 0.4167\n",
            "Epoch 2/50\n",
            "1/1 [==============================] - 0s 7ms/step - loss: 0.6976 - accuracy: 0.4167\n",
            "Epoch 3/50\n",
            "1/1 [==============================] - 0s 8ms/step - loss: 0.6957 - accuracy: 0.4167\n",
            "Epoch 4/50\n",
            "1/1 [==============================] - 0s 8ms/step - loss: 0.6938 - accuracy: 0.5000\n",
            "Epoch 5/50\n",
            "1/1 [==============================] - 0s 8ms/step - loss: 0.6919 - accuracy: 0.5000\n",
            "Epoch 6/50\n",
            "1/1 [==============================] - 0s 7ms/step - loss: 0.6900 - accuracy: 0.6667\n",
            "Epoch 7/50\n",
            "1/1 [==============================] - 0s 6ms/step - loss: 0.6881 - accuracy: 0.7500\n",
            "Epoch 8/50\n",
            "1/1 [==============================] - 0s 9ms/step - loss: 0.6863 - accuracy: 0.7500\n",
            "Epoch 9/50\n",
            "1/1 [==============================] - 0s 7ms/step - loss: 0.6844 - accuracy: 0.7500\n",
            "Epoch 10/50\n",
            "1/1 [==============================] - 0s 6ms/step - loss: 0.6825 - accuracy: 0.8333\n",
            "Epoch 11/50\n",
            "1/1 [==============================] - 0s 7ms/step - loss: 0.6807 - accuracy: 0.8333\n",
            "Epoch 12/50\n",
            "1/1 [==============================] - 0s 6ms/step - loss: 0.6788 - accuracy: 0.8333\n",
            "Epoch 13/50\n",
            "1/1 [==============================] - 0s 6ms/step - loss: 0.6770 - accuracy: 0.9167\n",
            "Epoch 14/50\n",
            "1/1 [==============================] - 0s 6ms/step - loss: 0.6751 - accuracy: 0.9167\n",
            "Epoch 15/50\n",
            "1/1 [==============================] - 0s 8ms/step - loss: 0.6732 - accuracy: 0.9167\n",
            "Epoch 16/50\n",
            "1/1 [==============================] - 0s 6ms/step - loss: 0.6714 - accuracy: 0.9167\n",
            "Epoch 17/50\n",
            "1/1 [==============================] - 0s 6ms/step - loss: 0.6695 - accuracy: 0.9167\n",
            "Epoch 18/50\n",
            "1/1 [==============================] - 0s 6ms/step - loss: 0.6676 - accuracy: 0.9167\n",
            "Epoch 19/50\n",
            "1/1 [==============================] - 0s 6ms/step - loss: 0.6658 - accuracy: 0.9167\n",
            "Epoch 20/50\n",
            "1/1 [==============================] - 0s 6ms/step - loss: 0.6639 - accuracy: 0.9167\n",
            "Epoch 21/50\n",
            "1/1 [==============================] - 0s 8ms/step - loss: 0.6620 - accuracy: 0.9167\n",
            "Epoch 22/50\n",
            "1/1 [==============================] - 0s 7ms/step - loss: 0.6601 - accuracy: 0.9167\n",
            "Epoch 23/50\n",
            "1/1 [==============================] - 0s 7ms/step - loss: 0.6582 - accuracy: 0.9167\n",
            "Epoch 24/50\n",
            "1/1 [==============================] - 0s 7ms/step - loss: 0.6562 - accuracy: 0.9167\n",
            "Epoch 25/50\n",
            "1/1 [==============================] - 0s 6ms/step - loss: 0.6543 - accuracy: 0.9167\n",
            "Epoch 26/50\n",
            "1/1 [==============================] - 0s 6ms/step - loss: 0.6524 - accuracy: 0.9167\n",
            "Epoch 27/50\n",
            "1/1 [==============================] - 0s 7ms/step - loss: 0.6504 - accuracy: 0.9167\n",
            "Epoch 28/50\n",
            "1/1 [==============================] - 0s 8ms/step - loss: 0.6484 - accuracy: 0.9167\n",
            "Epoch 29/50\n",
            "1/1 [==============================] - 0s 8ms/step - loss: 0.6465 - accuracy: 0.9167\n",
            "Epoch 30/50\n",
            "1/1 [==============================] - 0s 8ms/step - loss: 0.6445 - accuracy: 0.9167\n",
            "Epoch 31/50\n",
            "1/1 [==============================] - 0s 9ms/step - loss: 0.6425 - accuracy: 0.9167\n",
            "Epoch 32/50\n",
            "1/1 [==============================] - 0s 6ms/step - loss: 0.6405 - accuracy: 0.9167\n",
            "Epoch 33/50\n",
            "1/1 [==============================] - 0s 7ms/step - loss: 0.6384 - accuracy: 0.9167\n",
            "Epoch 34/50\n",
            "1/1 [==============================] - 0s 6ms/step - loss: 0.6364 - accuracy: 0.9167\n",
            "Epoch 35/50\n",
            "1/1 [==============================] - 0s 6ms/step - loss: 0.6343 - accuracy: 0.9167\n",
            "Epoch 36/50\n",
            "1/1 [==============================] - 0s 8ms/step - loss: 0.6322 - accuracy: 0.9167\n",
            "Epoch 37/50\n",
            "1/1 [==============================] - 0s 7ms/step - loss: 0.6301 - accuracy: 0.9167\n",
            "Epoch 38/50\n",
            "1/1 [==============================] - 0s 6ms/step - loss: 0.6280 - accuracy: 0.9167\n",
            "Epoch 39/50\n",
            "1/1 [==============================] - 0s 6ms/step - loss: 0.6259 - accuracy: 0.9167\n",
            "Epoch 40/50\n",
            "1/1 [==============================] - 0s 6ms/step - loss: 0.6238 - accuracy: 0.9167\n",
            "Epoch 41/50\n",
            "1/1 [==============================] - 0s 6ms/step - loss: 0.6216 - accuracy: 0.9167\n",
            "Epoch 42/50\n",
            "1/1 [==============================] - 0s 7ms/step - loss: 0.6195 - accuracy: 0.9167\n",
            "Epoch 43/50\n",
            "1/1 [==============================] - 0s 7ms/step - loss: 0.6173 - accuracy: 0.9167\n",
            "Epoch 44/50\n",
            "1/1 [==============================] - 0s 6ms/step - loss: 0.6151 - accuracy: 0.9167\n",
            "Epoch 45/50\n",
            "1/1 [==============================] - 0s 7ms/step - loss: 0.6129 - accuracy: 0.9167\n",
            "Epoch 46/50\n",
            "1/1 [==============================] - 0s 6ms/step - loss: 0.6106 - accuracy: 0.9167\n",
            "Epoch 47/50\n",
            "1/1 [==============================] - 0s 7ms/step - loss: 0.6084 - accuracy: 0.9167\n",
            "Epoch 48/50\n",
            "1/1 [==============================] - 0s 7ms/step - loss: 0.6062 - accuracy: 0.9167\n",
            "Epoch 49/50\n",
            "1/1 [==============================] - 0s 6ms/step - loss: 0.6039 - accuracy: 0.9167\n",
            "Epoch 50/50\n",
            "1/1 [==============================] - 0s 7ms/step - loss: 0.6016 - accuracy: 0.9167\n",
            "1/1 [==============================] - 0s 115ms/step - loss: 0.5993 - accuracy: 0.9167\n",
            "Model Accuracy: 91.67%\n"
          ]
        }
      ]
    },
    {
      "cell_type": "markdown",
      "source": [
        "**EXERCISE 2**"
      ],
      "metadata": {
        "id": "8vlQiZtlsYQE"
      }
    },
    {
      "cell_type": "code",
      "source": [
        "import nltk\n",
        "import pandas as pd\n",
        "import re\n",
        "import numpy as np\n",
        "import matplotlib.pyplot as plt\n",
        "import seaborn as sns\n",
        "from nltk.corpus import stopwords\n",
        "from sklearn.model_selection import train_test_split\n",
        "from sklearn.feature_extraction.text import TfidfVectorizer\n",
        "from sklearn.metrics import confusion_matrix, classification_report, accuracy_score\n",
        "from sklearn.dummy import DummyClassifier"
      ],
      "metadata": {
        "id": "k6w-G13jyejK"
      },
      "execution_count": 8,
      "outputs": []
    },
    {
      "cell_type": "code",
      "source": [
        "nltk.download('stopwords')\n",
        "nltk.download('vader_lexicon')\n",
        "from nltk.sentiment.vader import SentimentIntensityAnalyzer"
      ],
      "metadata": {
        "colab": {
          "base_uri": "https://localhost:8080/"
        },
        "id": "ZdnQmhJwtmLd",
        "outputId": "865d33e6-daad-41c3-e251-a0a46ff85779"
      },
      "execution_count": 9,
      "outputs": [
        {
          "output_type": "stream",
          "name": "stderr",
          "text": [
            "[nltk_data] Downloading package stopwords to /root/nltk_data...\n",
            "[nltk_data]   Unzipping corpora/stopwords.zip.\n",
            "[nltk_data] Downloading package vader_lexicon to /root/nltk_data...\n"
          ]
        }
      ]
    },
    {
      "cell_type": "code",
      "source": [
        "tweets_df = pd.read_csv('/content/Tweets.csv')\n",
        "tweets_df.head()\n",
        "\n",
        "\n"
      ],
      "metadata": {
        "colab": {
          "base_uri": "https://localhost:8080/",
          "height": 451
        },
        "id": "NoEx56Fduwax",
        "outputId": "5d31b5e1-6f9e-453f-a855-8829d36290cf"
      },
      "execution_count": 10,
      "outputs": [
        {
          "output_type": "execute_result",
          "data": {
            "text/plain": [
              "       tweet_id airline_sentiment  airline_sentiment_confidence  \\\n",
              "0  5.703060e+17           neutral                        1.0000   \n",
              "1  5.703010e+17          positive                        0.3486   \n",
              "2  5.703010e+17           neutral                        0.6837   \n",
              "3  5.703010e+17          negative                        1.0000   \n",
              "4  5.703010e+17          negative                        1.0000   \n",
              "\n",
              "  negativereason  negativereason_confidence         airline  \\\n",
              "0            NaN                        NaN  Virgin America   \n",
              "1            NaN                     0.0000  Virgin America   \n",
              "2            NaN                        NaN  Virgin America   \n",
              "3     Bad Flight                     0.7033  Virgin America   \n",
              "4     Can't Tell                     1.0000  Virgin America   \n",
              "\n",
              "  airline_sentiment_gold        name negativereason_gold  retweet_count  \\\n",
              "0                    NaN     cairdin                 NaN              0   \n",
              "1                    NaN    jnardino                 NaN              0   \n",
              "2                    NaN  yvonnalynn                 NaN              0   \n",
              "3                    NaN    jnardino                 NaN              0   \n",
              "4                    NaN    jnardino                 NaN              0   \n",
              "\n",
              "                                                text tweet_coord  \\\n",
              "0                @VirginAmerica What @dhepburn said.         NaN   \n",
              "1  @VirginAmerica plus you've added commercials t...         NaN   \n",
              "2  @VirginAmerica I didn't today... Must mean I n...         NaN   \n",
              "3  @VirginAmerica it's really aggressive to blast...         NaN   \n",
              "4  @VirginAmerica and it's a really big bad thing...         NaN   \n",
              "\n",
              "     tweet_created tweet_location               user_timezone  \n",
              "0  2/24/2015 11:35            NaN  Eastern Time (US & Canada)  \n",
              "1  2/24/2015 11:15            NaN  Pacific Time (US & Canada)  \n",
              "2  2/24/2015 11:15      Lets Play  Central Time (US & Canada)  \n",
              "3  2/24/2015 11:15            NaN  Pacific Time (US & Canada)  \n",
              "4  2/24/2015 11:14            NaN  Pacific Time (US & Canada)  "
            ],
            "text/html": [
              "\n",
              "  <div id=\"df-3bfb9628-592f-4676-bc6b-d56b406bb151\" class=\"colab-df-container\">\n",
              "    <div>\n",
              "<style scoped>\n",
              "    .dataframe tbody tr th:only-of-type {\n",
              "        vertical-align: middle;\n",
              "    }\n",
              "\n",
              "    .dataframe tbody tr th {\n",
              "        vertical-align: top;\n",
              "    }\n",
              "\n",
              "    .dataframe thead th {\n",
              "        text-align: right;\n",
              "    }\n",
              "</style>\n",
              "<table border=\"1\" class=\"dataframe\">\n",
              "  <thead>\n",
              "    <tr style=\"text-align: right;\">\n",
              "      <th></th>\n",
              "      <th>tweet_id</th>\n",
              "      <th>airline_sentiment</th>\n",
              "      <th>airline_sentiment_confidence</th>\n",
              "      <th>negativereason</th>\n",
              "      <th>negativereason_confidence</th>\n",
              "      <th>airline</th>\n",
              "      <th>airline_sentiment_gold</th>\n",
              "      <th>name</th>\n",
              "      <th>negativereason_gold</th>\n",
              "      <th>retweet_count</th>\n",
              "      <th>text</th>\n",
              "      <th>tweet_coord</th>\n",
              "      <th>tweet_created</th>\n",
              "      <th>tweet_location</th>\n",
              "      <th>user_timezone</th>\n",
              "    </tr>\n",
              "  </thead>\n",
              "  <tbody>\n",
              "    <tr>\n",
              "      <th>0</th>\n",
              "      <td>5.703060e+17</td>\n",
              "      <td>neutral</td>\n",
              "      <td>1.0000</td>\n",
              "      <td>NaN</td>\n",
              "      <td>NaN</td>\n",
              "      <td>Virgin America</td>\n",
              "      <td>NaN</td>\n",
              "      <td>cairdin</td>\n",
              "      <td>NaN</td>\n",
              "      <td>0</td>\n",
              "      <td>@VirginAmerica What @dhepburn said.</td>\n",
              "      <td>NaN</td>\n",
              "      <td>2/24/2015 11:35</td>\n",
              "      <td>NaN</td>\n",
              "      <td>Eastern Time (US &amp; Canada)</td>\n",
              "    </tr>\n",
              "    <tr>\n",
              "      <th>1</th>\n",
              "      <td>5.703010e+17</td>\n",
              "      <td>positive</td>\n",
              "      <td>0.3486</td>\n",
              "      <td>NaN</td>\n",
              "      <td>0.0000</td>\n",
              "      <td>Virgin America</td>\n",
              "      <td>NaN</td>\n",
              "      <td>jnardino</td>\n",
              "      <td>NaN</td>\n",
              "      <td>0</td>\n",
              "      <td>@VirginAmerica plus you've added commercials t...</td>\n",
              "      <td>NaN</td>\n",
              "      <td>2/24/2015 11:15</td>\n",
              "      <td>NaN</td>\n",
              "      <td>Pacific Time (US &amp; Canada)</td>\n",
              "    </tr>\n",
              "    <tr>\n",
              "      <th>2</th>\n",
              "      <td>5.703010e+17</td>\n",
              "      <td>neutral</td>\n",
              "      <td>0.6837</td>\n",
              "      <td>NaN</td>\n",
              "      <td>NaN</td>\n",
              "      <td>Virgin America</td>\n",
              "      <td>NaN</td>\n",
              "      <td>yvonnalynn</td>\n",
              "      <td>NaN</td>\n",
              "      <td>0</td>\n",
              "      <td>@VirginAmerica I didn't today... Must mean I n...</td>\n",
              "      <td>NaN</td>\n",
              "      <td>2/24/2015 11:15</td>\n",
              "      <td>Lets Play</td>\n",
              "      <td>Central Time (US &amp; Canada)</td>\n",
              "    </tr>\n",
              "    <tr>\n",
              "      <th>3</th>\n",
              "      <td>5.703010e+17</td>\n",
              "      <td>negative</td>\n",
              "      <td>1.0000</td>\n",
              "      <td>Bad Flight</td>\n",
              "      <td>0.7033</td>\n",
              "      <td>Virgin America</td>\n",
              "      <td>NaN</td>\n",
              "      <td>jnardino</td>\n",
              "      <td>NaN</td>\n",
              "      <td>0</td>\n",
              "      <td>@VirginAmerica it's really aggressive to blast...</td>\n",
              "      <td>NaN</td>\n",
              "      <td>2/24/2015 11:15</td>\n",
              "      <td>NaN</td>\n",
              "      <td>Pacific Time (US &amp; Canada)</td>\n",
              "    </tr>\n",
              "    <tr>\n",
              "      <th>4</th>\n",
              "      <td>5.703010e+17</td>\n",
              "      <td>negative</td>\n",
              "      <td>1.0000</td>\n",
              "      <td>Can't Tell</td>\n",
              "      <td>1.0000</td>\n",
              "      <td>Virgin America</td>\n",
              "      <td>NaN</td>\n",
              "      <td>jnardino</td>\n",
              "      <td>NaN</td>\n",
              "      <td>0</td>\n",
              "      <td>@VirginAmerica and it's a really big bad thing...</td>\n",
              "      <td>NaN</td>\n",
              "      <td>2/24/2015 11:14</td>\n",
              "      <td>NaN</td>\n",
              "      <td>Pacific Time (US &amp; Canada)</td>\n",
              "    </tr>\n",
              "  </tbody>\n",
              "</table>\n",
              "</div>\n",
              "    <div class=\"colab-df-buttons\">\n",
              "\n",
              "  <div class=\"colab-df-container\">\n",
              "    <button class=\"colab-df-convert\" onclick=\"convertToInteractive('df-3bfb9628-592f-4676-bc6b-d56b406bb151')\"\n",
              "            title=\"Convert this dataframe to an interactive table.\"\n",
              "            style=\"display:none;\">\n",
              "\n",
              "  <svg xmlns=\"http://www.w3.org/2000/svg\" height=\"24px\" viewBox=\"0 -960 960 960\">\n",
              "    <path d=\"M120-120v-720h720v720H120Zm60-500h600v-160H180v160Zm220 220h160v-160H400v160Zm0 220h160v-160H400v160ZM180-400h160v-160H180v160Zm440 0h160v-160H620v160ZM180-180h160v-160H180v160Zm440 0h160v-160H620v160Z\"/>\n",
              "  </svg>\n",
              "    </button>\n",
              "\n",
              "  <style>\n",
              "    .colab-df-container {\n",
              "      display:flex;\n",
              "      gap: 12px;\n",
              "    }\n",
              "\n",
              "    .colab-df-convert {\n",
              "      background-color: #E8F0FE;\n",
              "      border: none;\n",
              "      border-radius: 50%;\n",
              "      cursor: pointer;\n",
              "      display: none;\n",
              "      fill: #1967D2;\n",
              "      height: 32px;\n",
              "      padding: 0 0 0 0;\n",
              "      width: 32px;\n",
              "    }\n",
              "\n",
              "    .colab-df-convert:hover {\n",
              "      background-color: #E2EBFA;\n",
              "      box-shadow: 0px 1px 2px rgba(60, 64, 67, 0.3), 0px 1px 3px 1px rgba(60, 64, 67, 0.15);\n",
              "      fill: #174EA6;\n",
              "    }\n",
              "\n",
              "    .colab-df-buttons div {\n",
              "      margin-bottom: 4px;\n",
              "    }\n",
              "\n",
              "    [theme=dark] .colab-df-convert {\n",
              "      background-color: #3B4455;\n",
              "      fill: #D2E3FC;\n",
              "    }\n",
              "\n",
              "    [theme=dark] .colab-df-convert:hover {\n",
              "      background-color: #434B5C;\n",
              "      box-shadow: 0px 1px 3px 1px rgba(0, 0, 0, 0.15);\n",
              "      filter: drop-shadow(0px 1px 2px rgba(0, 0, 0, 0.3));\n",
              "      fill: #FFFFFF;\n",
              "    }\n",
              "  </style>\n",
              "\n",
              "    <script>\n",
              "      const buttonEl =\n",
              "        document.querySelector('#df-3bfb9628-592f-4676-bc6b-d56b406bb151 button.colab-df-convert');\n",
              "      buttonEl.style.display =\n",
              "        google.colab.kernel.accessAllowed ? 'block' : 'none';\n",
              "\n",
              "      async function convertToInteractive(key) {\n",
              "        const element = document.querySelector('#df-3bfb9628-592f-4676-bc6b-d56b406bb151');\n",
              "        const dataTable =\n",
              "          await google.colab.kernel.invokeFunction('convertToInteractive',\n",
              "                                                    [key], {});\n",
              "        if (!dataTable) return;\n",
              "\n",
              "        const docLinkHtml = 'Like what you see? Visit the ' +\n",
              "          '<a target=\"_blank\" href=https://colab.research.google.com/notebooks/data_table.ipynb>data table notebook</a>'\n",
              "          + ' to learn more about interactive tables.';\n",
              "        element.innerHTML = '';\n",
              "        dataTable['output_type'] = 'display_data';\n",
              "        await google.colab.output.renderOutput(dataTable, element);\n",
              "        const docLink = document.createElement('div');\n",
              "        docLink.innerHTML = docLinkHtml;\n",
              "        element.appendChild(docLink);\n",
              "      }\n",
              "    </script>\n",
              "  </div>\n",
              "\n",
              "\n",
              "<div id=\"df-223e2744-f6c8-4ef4-9e96-757b3efd83fc\">\n",
              "  <button class=\"colab-df-quickchart\" onclick=\"quickchart('df-223e2744-f6c8-4ef4-9e96-757b3efd83fc')\"\n",
              "            title=\"Suggest charts.\"\n",
              "            style=\"display:none;\">\n",
              "\n",
              "<svg xmlns=\"http://www.w3.org/2000/svg\" height=\"24px\"viewBox=\"0 0 24 24\"\n",
              "     width=\"24px\">\n",
              "    <g>\n",
              "        <path d=\"M19 3H5c-1.1 0-2 .9-2 2v14c0 1.1.9 2 2 2h14c1.1 0 2-.9 2-2V5c0-1.1-.9-2-2-2zM9 17H7v-7h2v7zm4 0h-2V7h2v10zm4 0h-2v-4h2v4z\"/>\n",
              "    </g>\n",
              "</svg>\n",
              "  </button>\n",
              "\n",
              "<style>\n",
              "  .colab-df-quickchart {\n",
              "      --bg-color: #E8F0FE;\n",
              "      --fill-color: #1967D2;\n",
              "      --hover-bg-color: #E2EBFA;\n",
              "      --hover-fill-color: #174EA6;\n",
              "      --disabled-fill-color: #AAA;\n",
              "      --disabled-bg-color: #DDD;\n",
              "  }\n",
              "\n",
              "  [theme=dark] .colab-df-quickchart {\n",
              "      --bg-color: #3B4455;\n",
              "      --fill-color: #D2E3FC;\n",
              "      --hover-bg-color: #434B5C;\n",
              "      --hover-fill-color: #FFFFFF;\n",
              "      --disabled-bg-color: #3B4455;\n",
              "      --disabled-fill-color: #666;\n",
              "  }\n",
              "\n",
              "  .colab-df-quickchart {\n",
              "    background-color: var(--bg-color);\n",
              "    border: none;\n",
              "    border-radius: 50%;\n",
              "    cursor: pointer;\n",
              "    display: none;\n",
              "    fill: var(--fill-color);\n",
              "    height: 32px;\n",
              "    padding: 0;\n",
              "    width: 32px;\n",
              "  }\n",
              "\n",
              "  .colab-df-quickchart:hover {\n",
              "    background-color: var(--hover-bg-color);\n",
              "    box-shadow: 0 1px 2px rgba(60, 64, 67, 0.3), 0 1px 3px 1px rgba(60, 64, 67, 0.15);\n",
              "    fill: var(--button-hover-fill-color);\n",
              "  }\n",
              "\n",
              "  .colab-df-quickchart-complete:disabled,\n",
              "  .colab-df-quickchart-complete:disabled:hover {\n",
              "    background-color: var(--disabled-bg-color);\n",
              "    fill: var(--disabled-fill-color);\n",
              "    box-shadow: none;\n",
              "  }\n",
              "\n",
              "  .colab-df-spinner {\n",
              "    border: 2px solid var(--fill-color);\n",
              "    border-color: transparent;\n",
              "    border-bottom-color: var(--fill-color);\n",
              "    animation:\n",
              "      spin 1s steps(1) infinite;\n",
              "  }\n",
              "\n",
              "  @keyframes spin {\n",
              "    0% {\n",
              "      border-color: transparent;\n",
              "      border-bottom-color: var(--fill-color);\n",
              "      border-left-color: var(--fill-color);\n",
              "    }\n",
              "    20% {\n",
              "      border-color: transparent;\n",
              "      border-left-color: var(--fill-color);\n",
              "      border-top-color: var(--fill-color);\n",
              "    }\n",
              "    30% {\n",
              "      border-color: transparent;\n",
              "      border-left-color: var(--fill-color);\n",
              "      border-top-color: var(--fill-color);\n",
              "      border-right-color: var(--fill-color);\n",
              "    }\n",
              "    40% {\n",
              "      border-color: transparent;\n",
              "      border-right-color: var(--fill-color);\n",
              "      border-top-color: var(--fill-color);\n",
              "    }\n",
              "    60% {\n",
              "      border-color: transparent;\n",
              "      border-right-color: var(--fill-color);\n",
              "    }\n",
              "    80% {\n",
              "      border-color: transparent;\n",
              "      border-right-color: var(--fill-color);\n",
              "      border-bottom-color: var(--fill-color);\n",
              "    }\n",
              "    90% {\n",
              "      border-color: transparent;\n",
              "      border-bottom-color: var(--fill-color);\n",
              "    }\n",
              "  }\n",
              "</style>\n",
              "\n",
              "  <script>\n",
              "    async function quickchart(key) {\n",
              "      const quickchartButtonEl =\n",
              "        document.querySelector('#' + key + ' button');\n",
              "      quickchartButtonEl.disabled = true;  // To prevent multiple clicks.\n",
              "      quickchartButtonEl.classList.add('colab-df-spinner');\n",
              "      try {\n",
              "        const charts = await google.colab.kernel.invokeFunction(\n",
              "            'suggestCharts', [key], {});\n",
              "      } catch (error) {\n",
              "        console.error('Error during call to suggestCharts:', error);\n",
              "      }\n",
              "      quickchartButtonEl.classList.remove('colab-df-spinner');\n",
              "      quickchartButtonEl.classList.add('colab-df-quickchart-complete');\n",
              "    }\n",
              "    (() => {\n",
              "      let quickchartButtonEl =\n",
              "        document.querySelector('#df-223e2744-f6c8-4ef4-9e96-757b3efd83fc button');\n",
              "      quickchartButtonEl.style.display =\n",
              "        google.colab.kernel.accessAllowed ? 'block' : 'none';\n",
              "    })();\n",
              "  </script>\n",
              "</div>\n",
              "\n",
              "    </div>\n",
              "  </div>\n"
            ]
          },
          "metadata": {},
          "execution_count": 10
        }
      ]
    },
    {
      "cell_type": "code",
      "source": [
        "import seaborn as sns\n",
        "#shares of airlines mentioned in the data\n",
        "airline_counts = tweets_df['airline'].value_counts()\n",
        "plt.figure(figsize=(8, 6))\n",
        "ax = sns.barplot(x=airline_counts.index, y=airline_counts.values)\n",
        "plt.xlabel('Airlines')\n",
        "plt.ylabel('Number of Mentions')\n",
        "plt.title('Airline Mentions in Tweets')\n",
        "plt.xticks(rotation=45)\n",
        "for i, count in enumerate(airline_counts):\n",
        "    ax.text(i, count, str(count), ha='center', va='bottom', fontsize=12)\n",
        "\n",
        "plt.show()\n"
      ],
      "metadata": {
        "colab": {
          "base_uri": "https://localhost:8080/",
          "height": 632
        },
        "id": "rf2lMCl5voiq",
        "outputId": "7e57cef0-0633-40c4-e04b-4a739dcab879"
      },
      "execution_count": 11,
      "outputs": [
        {
          "output_type": "display_data",
          "data": {
            "text/plain": [
              "<Figure size 800x600 with 1 Axes>"
            ],
            "image/png": "[encoded data removed]"
          },
          "metadata": {}
        }
      ]
    },
    {
      "cell_type": "code",
      "source": [
        "#percentage of positive, negative, and neutral sentiments\n",
        "sentiment_counts = tweets_df['airline_sentiment'].value_counts()\n",
        "\n",
        "colors = sns.color_palette('pastel')[0:3]\n",
        "plt.figure(figsize=(8, 6))\n",
        "plt.pie(sentiment_counts, labels=sentiment_counts.index, autopct='%1.1f%%', startangle=140, colors=colors)\n",
        "plt.title('Sentiment Distribution')\n",
        "plt.axis('equal')\n",
        "plt.show()\n"
      ],
      "metadata": {
        "colab": {
          "base_uri": "https://localhost:8080/",
          "height": 521
        },
        "id": "XTP294BOv1yg",
        "outputId": "e0828b01-4038-4b97-e453-413938991a77"
      },
      "execution_count": 12,
      "outputs": [
        {
          "output_type": "display_data",
          "data": {
            "text/plain": [
              "<Figure size 800x600 with 1 Axes>"
            ],
            "image/png": "[encoded data removed]"
          },
          "metadata": {}
        }
      ]
    },
    {
      "cell_type": "code",
      "source": [
        "#Bar chart showing the number of positive, negative, and neutral comments by airline\n",
        "sns.countplot(x='airline', hue='airline_sentiment', data=tweets_df)\n",
        "plt.xlabel('Airlines')\n",
        "plt.ylabel('Number of Comments')\n",
        "plt.title('Sentiment Analysis by Airline')\n",
        "plt.show()\n"
      ],
      "metadata": {
        "colab": {
          "base_uri": "https://localhost:8080/",
          "height": 472
        },
        "id": "ne8-8VOswjra",
        "outputId": "f2f7e612-cf26-4d35-c47e-ca62aad81449"
      },
      "execution_count": 13,
      "outputs": [
        {
          "output_type": "display_data",
          "data": {
            "text/plain": [
              "<Figure size 640x480 with 1 Axes>"
            ],
            "image/png": "[encoded data removed]"
          },
          "metadata": {}
        }
      ]
    },
    {
      "cell_type": "code",
      "source": [
        "# Using Seaborn, show airlines' sentiment confidence\n",
        "sns.boxplot(x='airline', y='airline_sentiment_confidence', data=tweets_df)\n",
        "plt.xlabel('Airlines')\n",
        "plt.ylabel('Sentiment Confidence')\n",
        "plt.title('Sentiment Confidence by Airline')\n",
        "plt.show()"
      ],
      "metadata": {
        "colab": {
          "base_uri": "https://localhost:8080/",
          "height": 472
        },
        "id": "WSLlpw8gwl6K",
        "outputId": "77fb3237-43d3-40e1-c246-b924758a1ad7"
      },
      "execution_count": 14,
      "outputs": [
        {
          "output_type": "display_data",
          "data": {
            "text/plain": [
              "<Figure size 640x480 with 1 Axes>"
            ],
            "image/png": "[encoded data removed]"
          },
          "metadata": {}
        }
      ]
    },
    {
      "cell_type": "code",
      "source": [
        "features = tweets_df['text']\n",
        "labels = tweets_df['airline_sentiment']\n",
        "\n",
        "def clean_tweet(tweet):\n",
        "    tweet = re.sub(r'@[A-Za-z0-9]+', ' ', tweet)\n",
        "    tweet = re.sub(r'#', ' ', tweet)\n",
        "    tweet = re.sub(r'RT[\\s]+', ' ', tweet)\n",
        "    tweet = re.sub(r'https?:\\/\\/\\S+', ' ', tweet)\n",
        "    tweet = re.sub(r'[^A-Za-z]+', ' ', tweet)\n",
        "    tweet = tweet.lower()\n",
        "    return tweet\n",
        "\n",
        "cleaned_tweets = features.apply(clean_tweet)"
      ],
      "metadata": {
        "id": "Xf3l3TdxwoKu"
      },
      "execution_count": 15,
      "outputs": []
    },
    {
      "cell_type": "code",
      "source": [
        "vectorizer = TfidfVectorizer(max_features=5000, stop_words=stopwords.words('english'))\n",
        "X = vectorizer.fit_transform(cleaned_tweets)\n",
        "X_train, X_test, y_train, y_test = train_test_split(X, labels, test_size=0.2, random_state=30)\n"
      ],
      "metadata": {
        "id": "86mqBaOvws9H"
      },
      "execution_count": 16,
      "outputs": []
    },
    {
      "cell_type": "code",
      "source": [
        "from sklearn.ensemble import RandomForestClassifier\n",
        "model = RandomForestClassifier()\n",
        "model.fit(X_train, y_train)\n",
        "predictions = model.predict(X_test)"
      ],
      "metadata": {
        "id": "6JXzcg--zeOC"
      },
      "execution_count": 17,
      "outputs": []
    },
    {
      "cell_type": "code",
      "source": [
        "confusion_mat = confusion_matrix(y_test, predictions)\n",
        "report = classification_report(y_test, predictions)\n",
        "accuracy = accuracy_score(y_test, predictions)\n",
        "\n",
        "print(\"Confusion Matrix:\\n\", confusion_mat)\n",
        "print(\"\\nClassification Report:\\n\", report)\n",
        "print(f\"Accuracy: {accuracy * 100:.2f}%\")"
      ],
      "metadata": {
        "colab": {
          "base_uri": "https://localhost:8080/"
        },
        "id": "3viSOEFXw9c4",
        "outputId": "df28fc51-c8c3-49ff-8f4a-e664ad9d4f50"
      },
      "execution_count": 18,
      "outputs": [
        {
          "output_type": "stream",
          "name": "stdout",
          "text": [
            "Confusion Matrix:\n",
            " [[1686  108   41]\n",
            " [ 294  292   47]\n",
            " [ 153   52  255]]\n",
            "\n",
            "Classification Report:\n",
            "               precision    recall  f1-score   support\n",
            "\n",
            "    negative       0.79      0.92      0.85      1835\n",
            "     neutral       0.65      0.46      0.54       633\n",
            "    positive       0.74      0.55      0.64       460\n",
            "\n",
            "    accuracy                           0.76      2928\n",
            "   macro avg       0.73      0.64      0.67      2928\n",
            "weighted avg       0.75      0.76      0.75      2928\n",
            "\n",
            "Accuracy: 76.26%\n"
          ]
        }
      ]
    },
    {
      "cell_type": "code",
      "source": [],
      "metadata": {
        "id": "Z3aAWs-Qw_T7"
      },
      "execution_count": 18,
      "outputs": []
    }
  ]
}