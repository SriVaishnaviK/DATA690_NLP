{
  "nbformat": 4,
  "nbformat_minor": 0,
  "metadata": {
    "colab": {
      "provenance": []
    },
    "kernelspec": {
      "name": "python3",
      "display_name": "Python 3"
    },
    "language_info": {
      "name": "python"
    }
  },
  "cells": [
    {
      "cell_type": "markdown",
      "source": [
        "**Exercise 1. Text Generation**\n",
        "\n",
        "\n",
        "• Install markovify\n",
        "\n",
        "\n",
        "• Import pandas and markovify\n",
        "\n",
        "• Load the file ‘abcnews-date-text.csc’ as ‘inp’\n",
        "\n",
        "• Look at the three top rows\n",
        "\n",
        "• Create a model with markovify as ‘text_model’ to generate text\n",
        "\n",
        "• Print ten randomly generated sentences using the built model.\n",
        "\n",
        "**Exercise 2. Text Summarization**\n",
        "\n",
        "• Use sumy to summarize the ‘alice.txt’ file\n",
        "\n",
        "• Download the ‘punkt’ and 'tokenizers/punkt/PY3/english.pickle' NLTK\n",
        "libraries.\n",
        "\n",
        "**Exercise 3. Topic Modeling**\n",
        "\n",
        "• Determine the top 20 topics using the Non-Negative Matrix\n",
        "Factorization (NMF) using ‘from sklearn.decomposition import NMF’\n",
        "\n",
        "• Vectorize the words after cleaning up the text\n",
        "\n",
        "• Use ‘print(\"Topic {}: {}\".format(i + 1, \",\".join([str(x) for x in idx_to_word\n",
        "[topic.argsort()[-10:]]]))) to list the topics"
      ],
      "metadata": {
        "id": "M7duHiVPWR62"
      }
    },
    {
      "cell_type": "code",
      "source": [
        "!pip install markovify\n"
      ],
      "metadata": {
        "colab": {
          "base_uri": "https://localhost:8080/"
        },
        "id": "9seIvnClWk5w",
        "outputId": "57b35b4f-9ca9-45e8-a3c8-b46ffaeb2280"
      },
      "execution_count": null,
      "outputs": [
        {
          "output_type": "stream",
          "name": "stdout",
          "text": [
            "Collecting markovify\n",
            "  Downloading markovify-0.9.4.tar.gz (27 kB)\n",
            "  Preparing metadata (setup.py) ... \u001b[?25l\u001b[?25hdone\n",
            "Collecting unidecode (from markovify)\n",
            "  Downloading Unidecode-1.3.7-py3-none-any.whl (235 kB)\n",
            "\u001b[2K     \u001b[90m━━━━━━━━━━━━━━━━━━━━━━━━━━━━━━━━━━━━━━━\u001b[0m \u001b[32m235.5/235.5 kB\u001b[0m \u001b[31m7.6 MB/s\u001b[0m eta \u001b[36m0:00:00\u001b[0m\n",
            "\u001b[?25hBuilding wheels for collected packages: markovify\n",
            "  Building wheel for markovify (setup.py) ... \u001b[?25l\u001b[?25hdone\n",
            "  Created wheel for markovify: filename=markovify-0.9.4-py3-none-any.whl size=18607 sha256=75d88ca8b88110697bb6214ef453771d41a1fb448e1cfdb205256933d7411b5b\n",
            "  Stored in directory: /root/.cache/pip/wheels/ca/8c/c5/41413e24c484f883a100c63ca7b3b0362b7c6f6eb6d7c9cc7f\n",
            "Successfully built markovify\n",
            "Installing collected packages: unidecode, markovify\n",
            "Successfully installed markovify-0.9.4 unidecode-1.3.7\n"
          ]
        }
      ]
    },
    {
      "cell_type": "code",
      "source": [
        "import pandas as pd\n",
        "import markovify\n"
      ],
      "metadata": {
        "id": "-00b3AxzXM2o"
      },
      "execution_count": null,
      "outputs": []
    },
    {
      "cell_type": "code",
      "source": [
        "inp = pd.read_csv('abcnews-date-text.csv')\n",
        "\n"
      ],
      "metadata": {
        "id": "1tluY6MTYalD"
      },
      "execution_count": null,
      "outputs": []
    },
    {
      "cell_type": "code",
      "source": [
        "print(inp.head(3))\n"
      ],
      "metadata": {
        "colab": {
          "base_uri": "https://localhost:8080/"
        },
        "id": "2ElmPOf_YfCw",
        "outputId": "e2af8db4-9095-438b-975f-0f8a1f65d64d"
      },
      "execution_count": null,
      "outputs": [
        {
          "output_type": "stream",
          "name": "stdout",
          "text": [
            "   publish_date                                      headline_text\n",
            "0      20030219  aba decides against community broadcasting lic...\n",
            "1      20030219     act fire witnesses must be aware of defamation\n",
            "2      20030219     a g calls for infrastructure protection summit\n"
          ]
        }
      ]
    },
    {
      "cell_type": "code",
      "source": [
        "inp['headline_text']"
      ],
      "metadata": {
        "colab": {
          "base_uri": "https://localhost:8080/"
        },
        "id": "Q7YwN05LfBa7",
        "outputId": "babdc636-3ddd-4a74-cc31-2008890c2bd7"
      },
      "execution_count": null,
      "outputs": [
        {
          "output_type": "execute_result",
          "data": {
            "text/plain": [
              "0          aba decides against community broadcasting lic...\n",
              "1             act fire witnesses must be aware of defamation\n",
              "2             a g calls for infrastructure protection summit\n",
              "3                   air nz staff in aust strike for pay rise\n",
              "4              air nz strike to affect australian travellers\n",
              "                                 ...                        \n",
              "1186013    vision of flames approaching corryong in victoria\n",
              "1186014    wa police and government backflip on drug amne...\n",
              "1186015    we have fears for their safety: victorian premier\n",
              "1186016                                when do the 20s start\n",
              "1186017    yarraville shooting woman dead man critically ...\n",
              "Name: headline_text, Length: 1186018, dtype: object"
            ]
          },
          "metadata": {},
          "execution_count": 41
        }
      ]
    },
    {
      "cell_type": "code",
      "source": [
        "text = '. '.join(inp['headline_text'])\n",
        "\n",
        "# Adding an extra full stop at the end to delimit the last sentence\n",
        "text += '.'\n",
        "\n",
        "text_model = markovify.Text(text)\n",
        "\n",
        "# Generating ten sentences randomly from the text\n",
        "for _ in range(10):\n",
        "    sent = text_model.make_sentence()\n",
        "    if sent:\n",
        "        print(sent)\n",
        "\n",
        "\n",
        "\n"
      ],
      "metadata": {
        "colab": {
          "base_uri": "https://localhost:8080/"
        },
        "id": "3sgWGzjDeSd6",
        "outputId": "55a556cd-1366-46bc-8dfb-6d56612b01af"
      },
      "execution_count": null,
      "outputs": [
        {
          "output_type": "stream",
          "name": "stdout",
          "text": [
            "45m cost blowout for new manor f1 team poised to sign health funding limited by new drugs could become climate change. pols midopener. potential voters urged to boost canberra tourism. greeks probe hamilton lab blunder. grenade found in esperance storm. support grows for detained haneef launch appeal. lead testing results. katherine taxi driver rescues man from burning factory in melbourne. shades of hay. what happened where. melbourne car yard arson under investigation. anger grows over lost dogs home ransacked. pratts family considering special service. priests warn on burley griffin irrigation water restricted. legal action over email. awb inquiry not affecting food services qld health. researcher jill freyne wants volunteers for bench role. camping grounds forced to move. real demand more dalwood details. pearce joyce's shout in the eye for the nt. the long haul. bunbury locals sign up for battle of guadalcanal service commemorates 75th anniversary. bird deaths reported in hunter. karratha pharmacy row prompts fed govt policies. woman charged over throat slashing. stormwater drainage sparks business fears. pm promises athens will be safe in hospital after groovin the moo criticises security. women more likely to return to tawergha. image ballistics your smartphone camera reveals more subprime losses. cloncurry set for renovation. homes thought burnt as vic bushfire smoke. indigenous deal with chinas xian. how tiwi islands celebrate anniversary in. tax cuts and higher wages. perth rainfall higher than ever. fadi ibrahim traumatised after shooting. police interview witnesses to guildford bashing. police continue search for missing yachtsmen suspended. search stepped up in adelaide. greens angry at ets job loss claims. hanson reveals jail sapped her will to never yield to us troops. cameramans body is ritz florist not noordin top. fisher ruled out in tasmania. why artificial intelligence machine learning. catalonia crisis deepens with another day of savagery prompts questions from judge. sa defibrillator register launched. same sex marriage vote. sumatran tiger cubs in zoo. mayor calls for new unga. clive james in running for labor leader. anglo american to sell tree of knowledge to be launched against government. colston succumbs to crash cabinet. qantas embarrassed by public consultation on media bills prospects. copper wire theft. messi hopes to become ruling party mp assassinated outside baghdad downer. child sex charges. watson not hopeful as se qld goes to preferences. work begins on perths billion dollar writedown on oil and gas prices deal done on house prices. fire fighters gain upper hand in machinery accident. man jailed for 15 per cent backpacker tax. seniors and sexuality how old is a slap in the family ita buttrose as new ship heads for northern mayor. tumuts mayor says beattie welcome after euro 2016 group b england qualifies for fifth title. nsw country hour from north to leeds. oneills celtic deal remains unsigned. one killed in osborne smash. worksafe warning after second half fight back. foresty union considers nationwide james hardie lawyer plays down loss of their daughter christmas eve. contradictory australians think about the stars rail service expanded. new nt home invader. police praise new database critical to agriculture. how technologies like vr are being urged to ban old polluting cars ahead of iraq abuse photos. british soldier accused of targeting johns. centrelink denies widows payments ever in epl opener. child bonus feeds sa poker machines and water. doctors urge awareness. takata pleads guilty over gst funding. boaties get safety switches. wa likely to reopen for harvest. road spikes to end soon. second qld school. bligh slams bank levy budget bill compromise reached with eu diplomats. sam willoughby marries sweetheart. bushfire emergency homes lost in the eyes of stateline. a tassie twist. latest twist in german city. belgian king appoints commoner pm. tourism ceo russell markham tells chris. rsl commends police anti riot powers extended. police in ballarat house prices could follow child detention ruling no precedent. clarke soars up world rankings. two killed in sydney. australians rescued from flood. police hunt man after string of attacks day after marine accident. meeting airs traffic management concerns. israeli army prepares to step back. philippine president rodrigo duterte does not desensitise you to improve coastline. bin laden comments taken out of mainstream schools. switching energy provider moves out. doctors plan stop work. search for missing schoolgirl. police scale back of a lifetime. fire damages popular orange restaurant. firefighters battle to build unified. budget funds expected to have iron deficiency. youth concern for his. webb and lunn pipped in play offs system. identity of man washed down storm surge concerns over dangerous throw. councillor dismisses consultants water report. vidmar sweating on didak. man charged over elderly couples bashing. telstra announces internal split. tomahawk confirmed as worlds top 20. monitors brand indonesian vote honest. more dead in afghan debate. growers asked to account for kangaroos. long swim sparks boating rescue. man resuscitated after organ failure. deckhand fined matahari. desert frogs come alive in pakistan village. blind mole money trail to body retrieval. respected journalist dies. loch ness monster of australian cameraman arrested. alp members urged not to fear with nuttall. government plans to screen banned gay zombie film. tabcorp profits fall as us dollar pushes markets to new high. us deputy attorney general may appeal against brazilian bobsledders. australia meaner under howard. lifeguards urge caution following unprecedented drownings. nt family vows to retain wba crown. hotel forced to fly coop. good is being lowered. thomas cook what happens when you return. nat fyfe country. whistleblower complaint on donald trump facebook trust data privacy. facebook ceo meets china search engine boss. falls festival gets a new lease of life newman. brisbane man accused of child sex. company offers ship sale assurances. alston opens new mt gambier letterbox blasts. police seeking publics help in floods. underdog brown ready for flood scheme. coalition is losing its banana industry. blaze rips through northern nsw. sorting bank behaviour harsh or fair. clouds form over bartoli.\n",
            "10 national parks laws pass lower house. australians could die in seattle cbd kills 4 iraqi soldiers killed in iraq accident. flying foxes to brisbane semis. vic company wins new yorker journalist dies from cancer. eleven whales that survived a 68 year fast baffles doctors. mauresmo powers france to compensate investors over a. macquarie bank buys up horse flu vaccine. stoner completes meteoric rise. stoner crowned new motogp champion. stoner takes pole for motogp dream. strong winds predicted across weekend. number of structures burning in north korea with freed journalists. clinton mission may reset north korea ferry visit. jess pays tribute to comedian andy zaltzman. the changes to the test. youth coalition calls for presidents cup golf could bring 1 billion says act should have been self inflicted. female scorer to make up melting in summer. new teaching kit launched in central west uses for lemons during winter olympics kicks off recruitment drive. health system failing pregnant women warned not to kowtow to ideal image. central qld quake too small gps. meeting may clear the air parents frustrated by bombers led to network behind melbourne factory fire lansvale. australia goes one two. rockets hit israel after militants. persian gazelle to miss fa cup third place. hungry wolves shock glory. working party to campaign against nathan dam. new halls creek police seek pedestrian death inquest told. plastic bags supermarkets will source fresh pork imports. job ads near record low. business sa thinks the govt failed to resonate in tasmania parliament. ball tampering unfolded. china imposing new tariffs on canadian government over climate report. nz pm inspires bra designer. ohern second in controversial referendum. china mine death toll rises to 267 nearly 400 cannabis plants. political move wont threaten gm canola trials. govt to blame for fatal accident. two men rescued off port macquarie. controlled chemical plant blast. ullrich hopes strongest ever team will show commitment to afghanistan. toot blows up police powers extended in nsw. outback community savior. max blue heeler leads rescuers to stop flooding. mayor criticised over brain injury death. interview brent kite. interview brian lara. interview damien wright. interview lote tuqiri. interview michael clarke. interview lachie turner. interview tim sheens. nuns on the iron pot lighthouse. the new roof funded. adelaide symphonys natsuko yoshimoto to play ireland. independent audit. index points to more active. rural women celebrate as socceroos advance. farmers affected by floods. premier visits nsw towns getting best shots. storm chasers brace for more car parking plans please retailers. bikie charged after 2hr siege. cool change brings unpredictable fire conditions. colin heath speaks to elysse. royal hobart bowel obstruction treatment fell well short. russian athletes benefited from decisions councillors claim. london terrorist attack. investigations begin after homes and public transport. bligh overcomes squeamishness and donates blood. britain backflips on water developments. govt set to leave. new cricket laws. bishop downplays expected 30th straight loss for food price hike. ingrained misogyny behind rape allegations. high court rules against moving showground. rock fall survivor recruitment criticised. rudd details cabinet shake up. college collapses tarnish australias reputation. burrows behaviour extremely disappointing. bush arrives in wa. new zealand in constellation cup with dramatic last lap in rain. storms cut power but ipswich locals remain wary. online archive of aboriginal interpreters. royal commission sparks calls. ian chubb warns of china exp. new queensland dams built. queensland election lnp to search bushland for three tourist attractions. long lost australian digger honoured for efforts. perth man at game fishing impact. surging oil prices will keep his cool. scott proud of towns name. mp welcomes gear to fight swedish extradition. aston resources and energy. hard to bag. the gunman in thursdays siege was on methadone. three hurt in car crash fuelled threat against. court to test nbn speeds. accused baby killer gets 7yrs. farmers enjoy mixed rainfall results. dubbo council defers draft budget. country hour 15 august 2016. tasmanian bushfires urged by greens. boxer lucas big daddy of aussie batsmen. study finds ski lodges becoming greener. study reveals indigenous aged care overhaul. lehmann ferguson steer redbacks to make its. top of kangaroos. news quiz for 16 years. auburn hospital unsafe for bushfire hit blue mountains. business plan for new life to river for youths. coastal patrols monitor tas bushfires. strong winds hit gold coast united coach happy with fracking company on notice for fee policy. army camp sale angers brighton residents. army rebels trade fire. uk troops cast doubt over telstra senate bullying. disease claims life of being a bikie day. driver flees after darwin house price surge depresses us stocks. morale high for third straight nrl loss. peter matera contemplating retirement. planning begins for indigenous communities. sa premier names preferred candidates for port macdonnell health boost. hospital carpark open for brogden on debnams frontbench. doping allegations continue to rain snow blankets thirsty riverina. reds edge highlanders in thriller. ambrose set to resume. who investigates quake victim inquest begins. firefighters home after 9 month high. lockyer owes it all comes down to two. nucifora takes over captains arrest. concern grows over snowy sale. feedback sought on bright supermarket plan. mining under river. act treasurer to back local. sheedy wants eyes kept on next year. man believed abducted at bowden. man charged over joss stone plot. pair charged over child sex charges after despicable attack on.\n",
            "3d knitting machine helps local designers. afl scorecentre bulldogs warriors titans eels. nsw police confirm gunman shot dead. phone companies deny container deposit scheme. commission urged to give regular health briefings to. nz police on lookout for threatened species. barty beats gorges in straight sets. house collapse feared after montreal killing. man woman plead guilty to driving charges. brisbane terrorism accused granted bail. bikie police arrest bikies over alleged valley assault. oncology share plan. pilbara dialogue focuses on reducing animal. rugby chiefs set to get facelift. asx governance guidelines open to sa homes. enthusiasts bring a gp to be reviewed. knights win race two. whincup snares gold coast car crash. police pick over shooting of adam brooks email audit. alleged clash bancroft blown out of control blaze. firefighters urge public to consider fracking benefits. photographer chronicles 40 years on children should you take injured wildlife to avoid. greens highlight albany mining worries. growers to fight newcastle merger. proper premier league: january 18. new zealand injury worries. boy dies after plunging into sydney wharf. phoenix strike late against scotland. man accused of beach bacteria outbreak results. green light for temporary highway speed cut to save gulgong hospital. final ashes test. woman charged over christmas eve assault. the drum wednesday september 11. conditions good for solid session on spy teams. perilya looks to aid murray by settling water. govt announces mandatory internet filters to. council pushes ahead with land swap. conroys gap wind farm study close to call. pong su operated by unqualified teachers. sue butler said it. the hunt for clues decades after road accident.\n",
            "30 year hiatus. indian pm to address prison officer concerns. moors murderer ian jamieson sentenced to death. woman to front tribunal again. higher petrol costs up. hardie taxes could discourage employment of. labor urges govt to push for all teachers almost achieved bligh. lawyers defend justice system to cope with sydneys population. pm defends manufacturers chinese workers unlikely to keep whale alive. parliament recalled for riot laws vote. pathan plays down violence plagued. police praise womans efforts to fix own. divers fail to attract outback. britain bans radical cleric omar bakri. broome cup audit spoilt day. building certifiers get travel loan boost. repairs proceeding slowly after bunbury jailbreak. ashley cooper set for mexican mutton. akermanis doubtful for raiders clash. goulburn airport up for sale. prostitution laws under gst. govt to explore green options. cartwright excited by gabba challenge. school accused of negligence over payout offer. us congress approves six plus five rule. fifa formally signs anti spam judgment. casey moves four clear in los angeles. andrew mallard calls for bounty on sniffer dogs. commerce qld urges business to new. broken hill council raises tourism threat worries. epsom developers take on the improve. robert goulet dead at 85. minister angry over icac phone tap laws. closer. closer am. closer pm. collins legacy shrouded in controversy. priebus ousted by american qualifier stosur through. donald duck becomes a great way forward. truce talks wrap up phone box vandalism. man swallows rat poison hidden in da vinci. man convicted of sexual misconduct. clive palmer assets frozen over allleged ponzi style scam. auction takes record by a truck. world brahman congress. swan hill residents rally over funding. princes highway crash. pakistan reveal new twist in decades save the beleaguered roar. brunei defends death by dangerous winds lash melbourne central victoria. farrell debut delayed again. sharapova defeat completes bad day on anzac sacrifice at war claims opposition. fire restrictions crackdown. charity cricket international sold out.\n",
            "200 cowra meatworkers stood down. uk urges citizens to whip up in swine flu theory. scorsese touts film restoration project. fishing deaths prompts plea for help after cyclone. president challenger both claim debate victory. mccain obama clash on iraq us. poor work practices blamed for accelerating global. former casa dhairman dick smith says comeback on track. share market slides in japan. girls methadone death mum blamed bottle mix up. two killed in raid on pms climate change will shift whale. hospital not good enough to tackle stormwater drainage. colin saltmere discusses aboriginal abuse escalating nowra finds. adelaide hills home destroyed in suspected murder seek letter writer. police to negotiate computers in schools sick bay. monkeys seen rescuing injured officer. police officer charged with sex. uranium oxide product slumps in may. assurances about long wall mining misinformation. bligh to release report into iraq war. us launches offensive to be honoured with queens birthday. roosters silence diminished storm. rudd gives pacific leaders to reduce caesarean births. indian wins chess world championship could be missing man. police resume search for missing hunter. family law shake up will cater for. horse flu outbreak. japanese minister takes swipe at turnbull. tributes flow for disabilities on stage. lost dogss home toxic culture affecting patient care focus of town camps. resource gains push local agenda at nsw nationals. demand for uni students. gallop open to the business. trump clashes with lawyer damian scattini. whyalla mayor taskforce. osieck wont let ronaldinho leave psg tell united. wheat virus found in alice over afl weekend. fact check dutton refugees hospital beds. feedlot definition causes problems for livestock. arrium steel dumping protectionism debate. arsenic contamination fears at japan ski resort sold. axe wielding robber foiled. labor bigwigs join hale on campaign trail. howard rejects land tax review. coalition questions relevance of orchestras. richmonds richo cops fine from us program adopted to help prevent violence a. polar bear orphans. secker up beat about sacked workers. monty batters wa coast. iraq india mexico deadliest for media conference rob moodie. interview rodney eade. interview ross lyon. the drum thursday 2 june. the opt out of depth as pm. seagulls hope to give mine. adamson announces retirement football. lockout laws review after roberts case. mim to go to youth housing scheme. one dead 17 injured in afghan bomb attack. childers hostel owners criticise howard. kroger rules out white house visit. kanye west escapes felony charge after body find. further charges over gold mine near kingaroy sparks concerns. greens vow to fight any nuclear plans. discovery of sophisticated. academic says australia should lead to stuff addiction maggie dent says. trace family calls for more cyclones. bushfire hit tasmania. us reconnaissance plane intercepted by navy. anzac day respects. chelsea loses ramires for four year united deal. voters reminded to lock horns with tonga or china will action economic stimulus bill needs quick resolution to council wages decision. live sheep trade. proteas battle to fight hydro sale. concern over education office stands by armed pirates. injured nalbandian to lift fares again. gaddafi promises fight against locust. federer swaps tennis raquet for golf course may be responsible for influx over summer. molinari fends off election coup. malaysian pm to discuss damning report. govt going soft on ethnic crime. police make acid arrest. police say forest death suspicious. defending champ crashes out world cup stadium plans after school soccer fall.\n",
            "10 darfur rebels find common ground on fta latham. police reveal car link to lizard. socceroos arrive in liberia. us defends guantanamo strategy. us says coalition doing all i can be rebuilt. iraq dossier short on proof. iraq still a chance for parties policies. wincen cuy speaking to media outside the home. moruya driver charged over brisbane airport link. turnbull in melbourne. hopes makes early carnival exit. govt urged to crack down on roadside in lebanon. hanson calls on states to hike. residents fight service cuts. health service chief rejects crash investigation stalled. capitals humble rangers. claim wa govt rejects convincing ground acquisition claims. racv not surprised by rapid recall. fevola not out of metz atp tournament. association backs stricter. aussie leapers target medals in perth. blues on course for big time. young rugby league test. jockey kerrin mcevoy on winning not enough to stop forced labour. hassan becomes face of terrorism suspicion after 4. regional aircraft security lacking mp. renmark rural clinical school opens. accc takes action to secure combined gold. lockhart river crash reports criticises air safety. cosmonaut nikolayev dies. costello bonanza could mean for regional health. university puts weight behind diabetes campaign. homebirth midwives get insurance organised. rail communication reassurance needed after fatal smash. report reveals slow south west wa. student death sparks call to boost north qld real estate group fears rising dollar. fatal crash on take up notre dame from rain. graziers happy with shire independence. dizzy backs rotation policy. police unite to fight motor neuron disease. tim cahill magic earns melbourne city stumbling as a foreign language in australia. feminist art not like west papua issue could split. nsw cabinet reshuffle ruffles feathers in fiji. freo dockers player fined over workers rest breaks. united liverpool confident over pending legal. sydney fc downs adelaide united enters nsl. ads to win all five trophies ferguson. us deports ss guard charged sacked after inmate sit in. push for act public. highway tragedy ruled accidental. violence against women not warned before waterfall disaster. stem cell experiment. building society plays down leadership talk. rugby heavyweights confirm lightweight drinking. sars test result. shayna jacks swimming coach alan thompson. swine flu vaccine ready soon. water saving rebates. govt memo backs up hrt breast cancer screening. hemp claims court costs. typhoon tears through aussie attack. planning body too powerful on development and. bula boys in billy cart challenge. foodbank wa hunger report demand increasing. food icon maggie beer says aged care homes rationing incontinence pads. agforce cattle board president grant maudsley. agforce welcomes legal changes to cut potato supply. federal funds to target worst of fijiana on show; as nz coach. australians help build community pride. new recruits life threatening. masterfoods job losses not expected to continue regulation of mortgage customers for missed goal shots. buses to run for governor. vic bans alcoholic vapours. vic govt plans higher education role. ambulance industrial unrest wont. health service backs nurse recruitment efforts. explosions heard across baghdad. four palestinians killed by human error. schu still hungry for challenge to indon election result. labor urges caution for parents who locked dogs in drought. are you positive role models for your favourite question. daniel hanna from federal flagpole. schu facing life not just for narcissists researchers say. wheat australia secures 20yr gas deal to see 1.5 million fine for wrestling. richo cops fine booze ban contesting fine. mannus jail teachers to get involved in floriade. ricciuto clear for north coast features in queens birthday list. broncos roll sharks. education union pans new tech college for latrobe. coalition promises new indigenous justice centre. lost sheep shorn for first time.\n",
            "10 dead in north lebanon clashes. melbourne man jailed over assault. labor uses leaked howard dossier as ammunition. land sale probe puts state rail says psych testing as rigorous as. strikes result in forced redundancies move. opposition backs financially troubled council. govt to pressure china on human cloning licence. dominikovic through in india.\n",
            "10 killed in kashmir fighting.\n",
            "17 too young or too old for pm job. howard to withhold name in football hall of fame status and. digital privacy surveillance facebook young australians. tony abbott for.\n",
            "3600 mitsubishi related job losses from gas. irukandji stings on the rise of afghan badlands. brown urges farmers to continue marketing work. outgoing resort ceo rejects mismanagement claims. out the victoria derby for chelsea. telstra to buy beer for 170 a carton. wendy uttings lawyer peter russo on benefits of migration. cattle feedlot gets green light. war on waste dumping. public to get second shot at point of season. locust investment pays off for missing man. police interview boy erased gay conversion therapy police survey. more suburbs added to england in 2012. astronauts touch down after toxic dump sites. council unhappy with sentences for abalone prompts 5m expansion. japans scientific whaling a con labor. iemma relocates car imports move from the. australian caught with drugs on type 1. dodgy scaffolding report. altercation outside adelaide court. controversial damir dokic eyes reconciliation. council boosts wild dog woes. melbourne arrest made in cow trampling. man pleads guilty to stolen generations apology. public asked to release report into dwindling. grain co op launches second takeover offer. skaters first picked for nbl licence. comment sought on wind farm proponent up beat about power restoration enters third day. vic drug raids. north east vic. gender makes women more overweight than city counterparts. santos begins new chapter for uniting church. julie bishop drawn into legal. the victorian supreme court adjourns goat abattoir reopens after turbine mishap and pedestrian dies. hit run accused ignorant of crime to be prince harrys phone. third man charged with inciting racial hatred. mendoza mental. mine results reveal miner operating below full. india holds emergency talks expected next week. basketball coaches rewarded for inspirational kelly. analysis colin barnetts backers confident. wa premier flags earlier closing to host farmers business unhappy with water after 2000 drought. neil davis david brill media hall of fame. adelong crash atsb investigation. agent calls for housing inquiry. weyman set to reveal lover. sleep pods plan. american psycho heading to pilbara. anglers look to future doctor staffing. leaney snatches tampa bay lead. lions roar home to down roosters. council helps families hold onto warringah against zali steggall. vale bruce forbes simpson drover bushman. vegan group claim to solo sailing bid. radiation exposure findings disputed. rain enables farmers to get 300 million for mistreating suppliers. compassion for christmas. nile quits uniting church. new police numbers. opposition wants power to move away from trade deal. las vegas shooting what drives the oodnadatta track. federal govt again baulks at cutting act waiting. new operating theatres. humpbacks get early power in act. mp condemns wagga hospital rebuild. greens back lennons hybrid car deal. sa councils urges sa health error. scarlet robin facing extinction after being hit by fa over gerrard. fesa worried residents unprepared for cyber militia to deal with indonesia over. ngo questions need for more regional health services overhaul. cambodia drops child sex charges. prisoners sentenced to 18 years jail for beer mug attack.\n"
          ]
        }
      ]
    },
    {
      "cell_type": "markdown",
      "source": [
        "**EXERCISE 2**"
      ],
      "metadata": {
        "id": "M78Ee71ljyfj"
      }
    },
    {
      "cell_type": "code",
      "source": [
        "!pip install sumy\n"
      ],
      "metadata": {
        "colab": {
          "base_uri": "https://localhost:8080/"
        },
        "id": "YrLQX7uhg9C7",
        "outputId": "7062e633-eece-4b64-8b36-fff95bfc6a31"
      },
      "execution_count": null,
      "outputs": [
        {
          "output_type": "stream",
          "name": "stdout",
          "text": [
            "Requirement already satisfied: sumy in /usr/local/lib/python3.10/dist-packages (0.11.0)\n",
            "Requirement already satisfied: docopt<0.7,>=0.6.1 in /usr/local/lib/python3.10/dist-packages (from sumy) (0.6.2)\n",
            "Requirement already satisfied: breadability>=0.1.20 in /usr/local/lib/python3.10/dist-packages (from sumy) (0.1.20)\n",
            "Requirement already satisfied: requests>=2.7.0 in /usr/local/lib/python3.10/dist-packages (from sumy) (2.31.0)\n",
            "Requirement already satisfied: pycountry>=18.2.23 in /usr/local/lib/python3.10/dist-packages (from sumy) (22.3.5)\n",
            "Requirement already satisfied: nltk>=3.0.2 in /usr/local/lib/python3.10/dist-packages (from sumy) (3.8.1)\n",
            "Requirement already satisfied: chardet in /usr/local/lib/python3.10/dist-packages (from breadability>=0.1.20->sumy) (5.2.0)\n",
            "Requirement already satisfied: lxml>=2.0 in /usr/local/lib/python3.10/dist-packages (from breadability>=0.1.20->sumy) (4.9.3)\n",
            "Requirement already satisfied: click in /usr/local/lib/python3.10/dist-packages (from nltk>=3.0.2->sumy) (8.1.7)\n",
            "Requirement already satisfied: joblib in /usr/local/lib/python3.10/dist-packages (from nltk>=3.0.2->sumy) (1.3.2)\n",
            "Requirement already satisfied: regex>=2021.8.3 in /usr/local/lib/python3.10/dist-packages (from nltk>=3.0.2->sumy) (2023.6.3)\n",
            "Requirement already satisfied: tqdm in /usr/local/lib/python3.10/dist-packages (from nltk>=3.0.2->sumy) (4.66.1)\n",
            "Requirement already satisfied: setuptools in /usr/local/lib/python3.10/dist-packages (from pycountry>=18.2.23->sumy) (67.7.2)\n",
            "Requirement already satisfied: charset-normalizer<4,>=2 in /usr/local/lib/python3.10/dist-packages (from requests>=2.7.0->sumy) (3.3.0)\n",
            "Requirement already satisfied: idna<4,>=2.5 in /usr/local/lib/python3.10/dist-packages (from requests>=2.7.0->sumy) (3.4)\n",
            "Requirement already satisfied: urllib3<3,>=1.21.1 in /usr/local/lib/python3.10/dist-packages (from requests>=2.7.0->sumy) (2.0.6)\n",
            "Requirement already satisfied: certifi>=2017.4.17 in /usr/local/lib/python3.10/dist-packages (from requests>=2.7.0->sumy) (2023.7.22)\n"
          ]
        }
      ]
    },
    {
      "cell_type": "code",
      "source": [
        "import nltk\n",
        "nltk.download('punkt')\n"
      ],
      "metadata": {
        "colab": {
          "base_uri": "https://localhost:8080/"
        },
        "id": "d-R7_HAcj20D",
        "outputId": "7807e352-33b1-41ad-ed9f-bc6962a584fd"
      },
      "execution_count": null,
      "outputs": [
        {
          "output_type": "stream",
          "name": "stderr",
          "text": [
            "[nltk_data] Downloading package punkt to /root/nltk_data...\n",
            "[nltk_data]   Package punkt is already up-to-date!\n"
          ]
        },
        {
          "output_type": "execute_result",
          "data": {
            "text/plain": [
              "True"
            ]
          },
          "metadata": {},
          "execution_count": 45
        }
      ]
    },
    {
      "cell_type": "code",
      "source": [
        "#nltk.download('tokenizers/punkt/PY3/english.pickle')\n"
      ],
      "metadata": {
        "id": "Ylykn6Mcj_qJ"
      },
      "execution_count": null,
      "outputs": []
    },
    {
      "cell_type": "code",
      "source": [
        "import nltk\n",
        "from sumy.parsers.plaintext import PlaintextParser\n",
        "from sumy.nlp.tokenizers import Tokenizer\n",
        "from sumy.summarizers.lex_rank import LexRankSummarizer\n"
      ],
      "metadata": {
        "id": "V5z9UhhSzWBO"
      },
      "execution_count": null,
      "outputs": []
    },
    {
      "cell_type": "code",
      "source": [
        "# Load the 'alice.txt' file\n",
        "text_file = open(\"/content/alice.txt\", 'r', encoding='utf-8')\n",
        "text2 = text_file.read()\n",
        "\n",
        "\n",
        "\n",
        "parser = PlaintextParser.from_string(text2, Tokenizer('english'))\n",
        "summarizer = LexRankSummarizer()\n",
        "\n",
        "# Summarizing the text\n",
        "summary = summarizer(parser.document, sentences_count=len(parser.document.sentences))\n",
        "\n",
        "# Prints first 5 sentences from the summary\n",
        "for i, sentence in enumerate(summary):\n",
        "    if i < 5:\n",
        "        print(sentence)\n"
      ],
      "metadata": {
        "colab": {
          "base_uri": "https://localhost:8080/"
        },
        "id": "2YD36nwezasy",
        "outputId": "9a5de5e3-233a-4881-d0e7-fd4728ded551"
      },
      "execution_count": null,
      "outputs": [
        {
          "output_type": "stream",
          "name": "stdout",
          "text": [
            "﻿Alice was beginning to get very tired of sitting by her sister on the bank, and of having nothing to do:  once or twice she had peeped into the book her sister was reading, but it had no pictures or conversations in it, `and what is the use of a book,' thought Alice `without pictures or conversation?'\n",
            "So she was considering in her own mind (as well as she could, for the hot day made her feel very sleepy and stupid), whether the pleasure of making a daisy-chain would be worth the trouble of getting up and picking the daisies, when suddenly a White Rabbit with pink eyes ran close by her.\n",
            "There was nothing so VERY remarkable in that; nor did Alice think it so VERY much out of the way to hear the Rabbit say to itself, `Oh dear!\n",
            "Oh dear!\n",
            "I shall be late!'\n"
          ]
        }
      ]
    },
    {
      "cell_type": "markdown",
      "source": [
        "**EXERCISE: 3**"
      ],
      "metadata": {
        "id": "krQKxQB64gG5"
      }
    },
    {
      "cell_type": "code",
      "source": [
        "#Text Cleaning(I used the Alice.txt file)\n",
        "import re\n",
        "\n",
        "text2 = re.sub(r'[^a-zA-Z\\s]', '', text2)\n",
        "text2 = text2.lower()\n",
        "words = text2.split()\n",
        "cleaned_text = ' '.join(words)"
      ],
      "metadata": {
        "id": "R6kZ95-84tiq"
      },
      "execution_count": null,
      "outputs": []
    },
    {
      "cell_type": "code",
      "source": [
        "from sklearn.decomposition import NMF\n",
        "from sklearn.feature_extraction.text import TfidfVectorizer\n"
      ],
      "metadata": {
        "id": "Erjeyh149HnG"
      },
      "execution_count": null,
      "outputs": []
    },
    {
      "cell_type": "code",
      "source": [
        "# Creating a TF-IDF vectorizer\n",
        "vectorizerTF= TfidfVectorizer(max_df=99, min_df=1, stop_words='english')\n",
        "\n",
        "# Vectorize the cleaned text\n",
        "matrix = vectorizerTF.fit_transform([cleaned_text])\n",
        "\n"
      ],
      "metadata": {
        "id": "6mmNOQD_-AnQ"
      },
      "execution_count": null,
      "outputs": []
    },
    {
      "cell_type": "code",
      "source": [
        "from sklearn.decomposition import NMF\n",
        "\n",
        "#NMF\n",
        "nmf = NMF(n_components=20, random_state=1)\n",
        "nmf.fit(matrix)\n"
      ],
      "metadata": {
        "colab": {
          "base_uri": "https://localhost:8080/",
          "height": 75
        },
        "id": "eYQXGsja-EOA",
        "outputId": "04a4dc07-1c03-4527-df14-5595eecf3fc5"
      },
      "execution_count": null,
      "outputs": [
        {
          "output_type": "execute_result",
          "data": {
            "text/plain": [
              "NMF(n_components=20, random_state=1)"
            ],
            "text/html": [
              "<style>#sk-container-id-4 {color: black;background-color: white;}#sk-container-id-4 pre{padding: 0;}#sk-container-id-4 div.sk-toggleable {background-color: white;}#sk-container-id-4 label.sk-toggleable__label {cursor: pointer;display: block;width: 100%;margin-bottom: 0;padding: 0.3em;box-sizing: border-box;text-align: center;}#sk-container-id-4 label.sk-toggleable__label-arrow:before {content: \"▸\";float: left;margin-right: 0.25em;color: #696969;}#sk-container-id-4 label.sk-toggleable__label-arrow:hover:before {color: black;}#sk-container-id-4 div.sk-estimator:hover label.sk-toggleable__label-arrow:before {color: black;}#sk-container-id-4 div.sk-toggleable__content {max-height: 0;max-width: 0;overflow: hidden;text-align: left;background-color: #f0f8ff;}#sk-container-id-4 div.sk-toggleable__content pre {margin: 0.2em;color: black;border-radius: 0.25em;background-color: #f0f8ff;}#sk-container-id-4 input.sk-toggleable__control:checked~div.sk-toggleable__content {max-height: 200px;max-width: 100%;overflow: auto;}#sk-container-id-4 input.sk-toggleable__control:checked~label.sk-toggleable__label-arrow:before {content: \"▾\";}#sk-container-id-4 div.sk-estimator input.sk-toggleable__control:checked~label.sk-toggleable__label {background-color: #d4ebff;}#sk-container-id-4 div.sk-label input.sk-toggleable__control:checked~label.sk-toggleable__label {background-color: #d4ebff;}#sk-container-id-4 input.sk-hidden--visually {border: 0;clip: rect(1px 1px 1px 1px);clip: rect(1px, 1px, 1px, 1px);height: 1px;margin: -1px;overflow: hidden;padding: 0;position: absolute;width: 1px;}#sk-container-id-4 div.sk-estimator {font-family: monospace;background-color: #f0f8ff;border: 1px dotted black;border-radius: 0.25em;box-sizing: border-box;margin-bottom: 0.5em;}#sk-container-id-4 div.sk-estimator:hover {background-color: #d4ebff;}#sk-container-id-4 div.sk-parallel-item::after {content: \"\";width: 100%;border-bottom: 1px solid gray;flex-grow: 1;}#sk-container-id-4 div.sk-label:hover label.sk-toggleable__label {background-color: #d4ebff;}#sk-container-id-4 div.sk-serial::before {content: \"\";position: absolute;border-left: 1px solid gray;box-sizing: border-box;top: 0;bottom: 0;left: 50%;z-index: 0;}#sk-container-id-4 div.sk-serial {display: flex;flex-direction: column;align-items: center;background-color: white;padding-right: 0.2em;padding-left: 0.2em;position: relative;}#sk-container-id-4 div.sk-item {position: relative;z-index: 1;}#sk-container-id-4 div.sk-parallel {display: flex;align-items: stretch;justify-content: center;background-color: white;position: relative;}#sk-container-id-4 div.sk-item::before, #sk-container-id-4 div.sk-parallel-item::before {content: \"\";position: absolute;border-left: 1px solid gray;box-sizing: border-box;top: 0;bottom: 0;left: 50%;z-index: -1;}#sk-container-id-4 div.sk-parallel-item {display: flex;flex-direction: column;z-index: 1;position: relative;background-color: white;}#sk-container-id-4 div.sk-parallel-item:first-child::after {align-self: flex-end;width: 50%;}#sk-container-id-4 div.sk-parallel-item:last-child::after {align-self: flex-start;width: 50%;}#sk-container-id-4 div.sk-parallel-item:only-child::after {width: 0;}#sk-container-id-4 div.sk-dashed-wrapped {border: 1px dashed gray;margin: 0 0.4em 0.5em 0.4em;box-sizing: border-box;padding-bottom: 0.4em;background-color: white;}#sk-container-id-4 div.sk-label label {font-family: monospace;font-weight: bold;display: inline-block;line-height: 1.2em;}#sk-container-id-4 div.sk-label-container {text-align: center;}#sk-container-id-4 div.sk-container {/* jupyter's `normalize.less` sets `[hidden] { display: none; }` but bootstrap.min.css set `[hidden] { display: none !important; }` so we also need the `!important` here to be able to override the default hidden behavior on the sphinx rendered scikit-learn.org. See: https://github.com/scikit-learn/scikit-learn/issues/21755 */display: inline-block !important;position: relative;}#sk-container-id-4 div.sk-text-repr-fallback {display: none;}</style><div id=\"sk-container-id-4\" class=\"sk-top-container\"><div class=\"sk-text-repr-fallback\"><pre>NMF(n_components=20, random_state=1)</pre><b>In a Jupyter environment, please rerun this cell to show the HTML representation or trust the notebook. <br />On GitHub, the HTML representation is unable to render, please try loading this page with nbviewer.org.</b></div><div class=\"sk-container\" hidden><div class=\"sk-item\"><div class=\"sk-estimator sk-toggleable\"><input class=\"sk-toggleable__control sk-hidden--visually\" id=\"sk-estimator-id-4\" type=\"checkbox\" checked><label for=\"sk-estimator-id-4\" class=\"sk-toggleable__label sk-toggleable__label-arrow\">NMF</label><div class=\"sk-toggleable__content\"><pre>NMF(n_components=20, random_state=1)</pre></div></div></div></div></div>"
            ]
          },
          "metadata": {},
          "execution_count": 61
        }
      ]
    },
    {
      "cell_type": "code",
      "source": [
        "features = vectorizerTF.get_feature_names_out()\n",
        "for i, topic in enumerate(nmf.components_):\n",
        "  print(\"Topic {}: {}\".format(i + 1, \", \".join([features[idx] for idx in topic.argsort()[-10:]])))\n",
        "\n"
      ],
      "metadata": {
        "colab": {
          "base_uri": "https://localhost:8080/"
        },
        "id": "mn0MjczVAtqe",
        "outputId": "500bc276-26b3-447c-edf7-a4d106afa6c7"
      },
      "execution_count": null,
      "outputs": [
        {
          "output_type": "stream",
          "name": "stdout",
          "text": [
            "Topic 1: did, queen, time, thought, went, like, know, little, alice, said\n",
            "Topic 2: asleep, treacle, mouth, open, lizard, hot, end, rest, sighed, exactly\n",
            "Topic 3: lobsters, whiskers, sneezes, pale, week, queer, dormouse, hands, happened, wise\n",
            "Topic 4: glad, hanging, lessons, leaning, times, thought, violently, begin, looked, stupid\n",
            "Topic 5: thing, wonder, rosetree, disappeared, unless, deeply, turtle, id, rest, experiment\n",
            "Topic 6: kindly, extremely, usual, sands, righthand, xi, scream, pretty, crumbs, youd\n",
            "Topic 7: dispute, regular, ive, grin, wandered, wasting, wonderful, teacups, collected, called\n",
            "Topic 8: standing, pressed, happen, send, drew, tidy, jury, uncorked, doors, recognised\n",
            "Topic 9: signed, impatiently, havent, sensation, soup, snatch, curious, lory, wash, glad\n",
            "Topic 10: thirteen, roared, ridges, years, worry, laughed, leave, youare, alices, flamingo\n",
            "Topic 11: queer, march, looking, im, things, turtle, way, like, come, said\n",
            "Topic 12: raising, fix, laugh, act, anxiously, shy, play, terror, severity, thanked\n",
            "Topic 13: stool, royal, teapot, turtlewe, busily, smaller, tongue, adventures, shy, bills\n",
            "Topic 14: assembled, kept, bag, clearly, pairs, wood, nightair, doesnt, drink, adjourn\n",
            "Topic 15: handwriting, opened, stirring, listening, threelegged, racecourse, spite, porpoise, earnestly, dinahll\n",
            "Topic 16: cautiously, complained, distance, throwing, paper, loose, sobs, morals, think, young\n",
            "Topic 17: stuff, ago, resting, cried, smoking, just, ladhere, pope, choice, lived\n",
            "Topic 18: curly, occasionally, quickly, yetits, folding, thinand, clean, growling, fine, christmas\n",
            "Topic 19: puppy, certain, ou, pinched, stood, pink, nightair, opening, somebody, snappishly\n",
            "Topic 20: spades, ate, writing, crossly, smiling, graceful, bad, mile, love, newspapers\n"
          ]
        }
      ]
    },
    {
      "cell_type": "code",
      "source": [],
      "metadata": {
        "id": "Dz9jubcUAyB2"
      },
      "execution_count": null,
      "outputs": []
    }
  ]
}