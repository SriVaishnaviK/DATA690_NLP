{
  "nbformat": 4,
  "nbformat_minor": 0,
  "metadata": {
    "colab": {
      "provenance": []
    },
    "kernelspec": {
      "name": "python3",
      "display_name": "Python 3"
    },
    "language_info": {
      "name": "python"
    }
  },
  "cells": [
    {
      "cell_type": "markdown",
      "source": [
        "Exercise 1. Sentiment Analysis\n",
        "\n",
        "\n",
        "This exercise will allow you to use PyTorch. Refer to the DATA 690 Resources.\n",
        "1. Import the required libraries.\n",
        "2. Load the dataset containing a set of 1,000 product reviews from Amazon, which are\n",
        "paired with a label of 0 (for negative reviews) or 1 (for positive reviews). Get the data at\n",
        "https://archive.ics.uci.edu/ml/datasets/Sentiment+Labelled+Sentences.\n",
        "3. Separate the data into two variables: one containing the reviews and the other containing\n",
        "the labels. Remove the punctuation from the reviews.\n",
        "4. Create a variable containing the vocabulary of the entire set of reviews.\n",
        "5. Additionally, create a dictionary that maps each word to an integer, where the words will\n",
        "be the keys and the integers will be the values.\n",
        "6. Encode the review data by replacing each word in a review for its paired integer.\n",
        "7. Create a class containing the architecture of the network.\n",
        "8. Make sure that you include an embedding layer. Initialize the model using 64 embedding\n",
        "dimensions and 128 neurons for 3 LSTM layers.\n",
        "9. Define the loss function, an optimization algorithm, and the number of epochs to train for.\n",
        "For example, you can use binary cross-entropy loss as the loss function, the Adam\n",
        "optimizer, and train for 10 epochs.\n",
        "10. Create a for loop that goes through the different epochs and through every single\n",
        "review individually. For each review, perform a prediction, calculate the loss function, and\n",
        "update the parameters of the network. Additionally, calculate the accuracy of the network\n",
        "over that training data.\n",
        "11. Plot the progress of the loss function and accuracy over time."
      ],
      "metadata": {
        "id": "9JVHCbBZp3SK"
      }
    },
    {
      "cell_type": "code",
      "source": [
        "import torch\n",
        "import torch.nn as nn\n",
        "import torch.optim as optim\n",
        "import string\n",
        "import matplotlib.pyplot as plt\n",
        "import seaborn as sns\n"
      ],
      "metadata": {
        "id": "RJDLp3Xup8UF"
      },
      "execution_count": null,
      "outputs": []
    },
    {
      "cell_type": "code",
      "source": [
        "import pandas as pd\n",
        "\n",
        "df = pd.read_csv(\"/content/amazon_cells_labelled.txt\", delimiter=\"\\t\", error_bad_lines=False)\n",
        "df.head()\n",
        "\n"
      ],
      "metadata": {
        "colab": {
          "base_uri": "https://localhost:8080/",
          "height": 295
        },
        "id": "Kc8bgq04qOXI",
        "outputId": "4c91cda9-78c3-41fd-d7c7-e29b8561fda5"
      },
      "execution_count": null,
      "outputs": [
        {
          "output_type": "stream",
          "name": "stderr",
          "text": [
            "<ipython-input-24-365d5458814b>:3: FutureWarning: The error_bad_lines argument has been deprecated and will be removed in a future version. Use on_bad_lines in the future.\n",
            "\n",
            "\n",
            "  df = pd.read_csv(\"/content/amazon_cells_labelled.txt\", delimiter=\"\\t\", error_bad_lines=False)\n"
          ]
        },
        {
          "output_type": "execute_result",
          "data": {
            "text/plain": [
              "  So there is no way for me to plug it in here in the US unless I go by a converter.  \\\n",
              "0                        Good case, Excellent value.                                   \n",
              "1                             Great for the jawbone.                                   \n",
              "2  Tied to charger for conversations lasting more...                                   \n",
              "3                                  The mic is great.                                   \n",
              "4  I have to jiggle the plug to get it to line up...                                   \n",
              "\n",
              "   0  \n",
              "0  1  \n",
              "1  1  \n",
              "2  0  \n",
              "3  1  \n",
              "4  0  "
            ],
            "text/html": [
              "\n",
              "  <div id=\"df-d6e2eec9-3c59-404b-85f5-1667d0cdb438\" class=\"colab-df-container\">\n",
              "    <div>\n",
              "<style scoped>\n",
              "    .dataframe tbody tr th:only-of-type {\n",
              "        vertical-align: middle;\n",
              "    }\n",
              "\n",
              "    .dataframe tbody tr th {\n",
              "        vertical-align: top;\n",
              "    }\n",
              "\n",
              "    .dataframe thead th {\n",
              "        text-align: right;\n",
              "    }\n",
              "</style>\n",
              "<table border=\"1\" class=\"dataframe\">\n",
              "  <thead>\n",
              "    <tr style=\"text-align: right;\">\n",
              "      <th></th>\n",
              "      <th>So there is no way for me to plug it in here in the US unless I go by a converter.</th>\n",
              "      <th>0</th>\n",
              "    </tr>\n",
              "  </thead>\n",
              "  <tbody>\n",
              "    <tr>\n",
              "      <th>0</th>\n",
              "      <td>Good case, Excellent value.</td>\n",
              "      <td>1</td>\n",
              "    </tr>\n",
              "    <tr>\n",
              "      <th>1</th>\n",
              "      <td>Great for the jawbone.</td>\n",
              "      <td>1</td>\n",
              "    </tr>\n",
              "    <tr>\n",
              "      <th>2</th>\n",
              "      <td>Tied to charger for conversations lasting more...</td>\n",
              "      <td>0</td>\n",
              "    </tr>\n",
              "    <tr>\n",
              "      <th>3</th>\n",
              "      <td>The mic is great.</td>\n",
              "      <td>1</td>\n",
              "    </tr>\n",
              "    <tr>\n",
              "      <th>4</th>\n",
              "      <td>I have to jiggle the plug to get it to line up...</td>\n",
              "      <td>0</td>\n",
              "    </tr>\n",
              "  </tbody>\n",
              "</table>\n",
              "</div>\n",
              "    <div class=\"colab-df-buttons\">\n",
              "\n",
              "  <div class=\"colab-df-container\">\n",
              "    <button class=\"colab-df-convert\" onclick=\"convertToInteractive('df-d6e2eec9-3c59-404b-85f5-1667d0cdb438')\"\n",
              "            title=\"Convert this dataframe to an interactive table.\"\n",
              "            style=\"display:none;\">\n",
              "\n",
              "  <svg xmlns=\"http://www.w3.org/2000/svg\" height=\"24px\" viewBox=\"0 -960 960 960\">\n",
              "    <path d=\"M120-120v-720h720v720H120Zm60-500h600v-160H180v160Zm220 220h160v-160H400v160Zm0 220h160v-160H400v160ZM180-400h160v-160H180v160Zm440 0h160v-160H620v160ZM180-180h160v-160H180v160Zm440 0h160v-160H620v160Z\"/>\n",
              "  </svg>\n",
              "    </button>\n",
              "\n",
              "  <style>\n",
              "    .colab-df-container {\n",
              "      display:flex;\n",
              "      gap: 12px;\n",
              "    }\n",
              "\n",
              "    .colab-df-convert {\n",
              "      background-color: #E8F0FE;\n",
              "      border: none;\n",
              "      border-radius: 50%;\n",
              "      cursor: pointer;\n",
              "      display: none;\n",
              "      fill: #1967D2;\n",
              "      height: 32px;\n",
              "      padding: 0 0 0 0;\n",
              "      width: 32px;\n",
              "    }\n",
              "\n",
              "    .colab-df-convert:hover {\n",
              "      background-color: #E2EBFA;\n",
              "      box-shadow: 0px 1px 2px rgba(60, 64, 67, 0.3), 0px 1px 3px 1px rgba(60, 64, 67, 0.15);\n",
              "      fill: #174EA6;\n",
              "    }\n",
              "\n",
              "    .colab-df-buttons div {\n",
              "      margin-bottom: 4px;\n",
              "    }\n",
              "\n",
              "    [theme=dark] .colab-df-convert {\n",
              "      background-color: #3B4455;\n",
              "      fill: #D2E3FC;\n",
              "    }\n",
              "\n",
              "    [theme=dark] .colab-df-convert:hover {\n",
              "      background-color: #434B5C;\n",
              "      box-shadow: 0px 1px 3px 1px rgba(0, 0, 0, 0.15);\n",
              "      filter: drop-shadow(0px 1px 2px rgba(0, 0, 0, 0.3));\n",
              "      fill: #FFFFFF;\n",
              "    }\n",
              "  </style>\n",
              "\n",
              "    <script>\n",
              "      const buttonEl =\n",
              "        document.querySelector('#df-d6e2eec9-3c59-404b-85f5-1667d0cdb438 button.colab-df-convert');\n",
              "      buttonEl.style.display =\n",
              "        google.colab.kernel.accessAllowed ? 'block' : 'none';\n",
              "\n",
              "      async function convertToInteractive(key) {\n",
              "        const element = document.querySelector('#df-d6e2eec9-3c59-404b-85f5-1667d0cdb438');\n",
              "        const dataTable =\n",
              "          await google.colab.kernel.invokeFunction('convertToInteractive',\n",
              "                                                    [key], {});\n",
              "        if (!dataTable) return;\n",
              "\n",
              "        const docLinkHtml = 'Like what you see? Visit the ' +\n",
              "          '<a target=\"_blank\" href=https://colab.research.google.com/notebooks/data_table.ipynb>data table notebook</a>'\n",
              "          + ' to learn more about interactive tables.';\n",
              "        element.innerHTML = '';\n",
              "        dataTable['output_type'] = 'display_data';\n",
              "        await google.colab.output.renderOutput(dataTable, element);\n",
              "        const docLink = document.createElement('div');\n",
              "        docLink.innerHTML = docLinkHtml;\n",
              "        element.appendChild(docLink);\n",
              "      }\n",
              "    </script>\n",
              "  </div>\n",
              "\n",
              "\n",
              "<div id=\"df-10e1c8c5-afc5-45af-a40b-b45f17dfe3c5\">\n",
              "  <button class=\"colab-df-quickchart\" onclick=\"quickchart('df-10e1c8c5-afc5-45af-a40b-b45f17dfe3c5')\"\n",
              "            title=\"Suggest charts.\"\n",
              "            style=\"display:none;\">\n",
              "\n",
              "<svg xmlns=\"http://www.w3.org/2000/svg\" height=\"24px\"viewBox=\"0 0 24 24\"\n",
              "     width=\"24px\">\n",
              "    <g>\n",
              "        <path d=\"M19 3H5c-1.1 0-2 .9-2 2v14c0 1.1.9 2 2 2h14c1.1 0 2-.9 2-2V5c0-1.1-.9-2-2-2zM9 17H7v-7h2v7zm4 0h-2V7h2v10zm4 0h-2v-4h2v4z\"/>\n",
              "    </g>\n",
              "</svg>\n",
              "  </button>\n",
              "\n",
              "<style>\n",
              "  .colab-df-quickchart {\n",
              "      --bg-color: #E8F0FE;\n",
              "      --fill-color: #1967D2;\n",
              "      --hover-bg-color: #E2EBFA;\n",
              "      --hover-fill-color: #174EA6;\n",
              "      --disabled-fill-color: #AAA;\n",
              "      --disabled-bg-color: #DDD;\n",
              "  }\n",
              "\n",
              "  [theme=dark] .colab-df-quickchart {\n",
              "      --bg-color: #3B4455;\n",
              "      --fill-color: #D2E3FC;\n",
              "      --hover-bg-color: #434B5C;\n",
              "      --hover-fill-color: #FFFFFF;\n",
              "      --disabled-bg-color: #3B4455;\n",
              "      --disabled-fill-color: #666;\n",
              "  }\n",
              "\n",
              "  .colab-df-quickchart {\n",
              "    background-color: var(--bg-color);\n",
              "    border: none;\n",
              "    border-radius: 50%;\n",
              "    cursor: pointer;\n",
              "    display: none;\n",
              "    fill: var(--fill-color);\n",
              "    height: 32px;\n",
              "    padding: 0;\n",
              "    width: 32px;\n",
              "  }\n",
              "\n",
              "  .colab-df-quickchart:hover {\n",
              "    background-color: var(--hover-bg-color);\n",
              "    box-shadow: 0 1px 2px rgba(60, 64, 67, 0.3), 0 1px 3px 1px rgba(60, 64, 67, 0.15);\n",
              "    fill: var(--button-hover-fill-color);\n",
              "  }\n",
              "\n",
              "  .colab-df-quickchart-complete:disabled,\n",
              "  .colab-df-quickchart-complete:disabled:hover {\n",
              "    background-color: var(--disabled-bg-color);\n",
              "    fill: var(--disabled-fill-color);\n",
              "    box-shadow: none;\n",
              "  }\n",
              "\n",
              "  .colab-df-spinner {\n",
              "    border: 2px solid var(--fill-color);\n",
              "    border-color: transparent;\n",
              "    border-bottom-color: var(--fill-color);\n",
              "    animation:\n",
              "      spin 1s steps(1) infinite;\n",
              "  }\n",
              "\n",
              "  @keyframes spin {\n",
              "    0% {\n",
              "      border-color: transparent;\n",
              "      border-bottom-color: var(--fill-color);\n",
              "      border-left-color: var(--fill-color);\n",
              "    }\n",
              "    20% {\n",
              "      border-color: transparent;\n",
              "      border-left-color: var(--fill-color);\n",
              "      border-top-color: var(--fill-color);\n",
              "    }\n",
              "    30% {\n",
              "      border-color: transparent;\n",
              "      border-left-color: var(--fill-color);\n",
              "      border-top-color: var(--fill-color);\n",
              "      border-right-color: var(--fill-color);\n",
              "    }\n",
              "    40% {\n",
              "      border-color: transparent;\n",
              "      border-right-color: var(--fill-color);\n",
              "      border-top-color: var(--fill-color);\n",
              "    }\n",
              "    60% {\n",
              "      border-color: transparent;\n",
              "      border-right-color: var(--fill-color);\n",
              "    }\n",
              "    80% {\n",
              "      border-color: transparent;\n",
              "      border-right-color: var(--fill-color);\n",
              "      border-bottom-color: var(--fill-color);\n",
              "    }\n",
              "    90% {\n",
              "      border-color: transparent;\n",
              "      border-bottom-color: var(--fill-color);\n",
              "    }\n",
              "  }\n",
              "</style>\n",
              "\n",
              "  <script>\n",
              "    async function quickchart(key) {\n",
              "      const quickchartButtonEl =\n",
              "        document.querySelector('#' + key + ' button');\n",
              "      quickchartButtonEl.disabled = true;  // To prevent multiple clicks.\n",
              "      quickchartButtonEl.classList.add('colab-df-spinner');\n",
              "      try {\n",
              "        const charts = await google.colab.kernel.invokeFunction(\n",
              "            'suggestCharts', [key], {});\n",
              "      } catch (error) {\n",
              "        console.error('Error during call to suggestCharts:', error);\n",
              "      }\n",
              "      quickchartButtonEl.classList.remove('colab-df-spinner');\n",
              "      quickchartButtonEl.classList.add('colab-df-quickchart-complete');\n",
              "    }\n",
              "    (() => {\n",
              "      let quickchartButtonEl =\n",
              "        document.querySelector('#df-10e1c8c5-afc5-45af-a40b-b45f17dfe3c5 button');\n",
              "      quickchartButtonEl.style.display =\n",
              "        google.colab.kernel.accessAllowed ? 'block' : 'none';\n",
              "    })();\n",
              "  </script>\n",
              "</div>\n",
              "    </div>\n",
              "  </div>\n"
            ]
          },
          "metadata": {},
          "execution_count": 24
        }
      ]
    },
    {
      "cell_type": "code",
      "source": [
        "df.columns"
      ],
      "metadata": {
        "colab": {
          "base_uri": "https://localhost:8080/"
        },
        "id": "V2MKdNLvqj31",
        "outputId": "ba04eb84-987f-4eca-9e68-9622cb028d6b"
      },
      "execution_count": null,
      "outputs": [
        {
          "output_type": "execute_result",
          "data": {
            "text/plain": [
              "Index(['So there is no way for me to plug it in here in the US unless I go by a converter.', '0'], dtype='object')"
            ]
          },
          "metadata": {},
          "execution_count": 25
        }
      ]
    },
    {
      "cell_type": "code",
      "source": [
        "columns = [\"Text\", \"Label\"]\n",
        "df = pd.read_csv(\"/content/amazon_cells_labelled.txt\", delimiter=\"\\t\", names=columns)\n",
        "\n",
        "df.head()\n"
      ],
      "metadata": {
        "colab": {
          "base_uri": "https://localhost:8080/",
          "height": 206
        },
        "id": "dvhiXleTuzmo",
        "outputId": "3024abdf-fe50-4d2f-9a3e-0ad81fb4d0ca"
      },
      "execution_count": null,
      "outputs": [
        {
          "output_type": "execute_result",
          "data": {
            "text/plain": [
              "                                                Text  Label\n",
              "0  So there is no way for me to plug it in here i...      0\n",
              "1                        Good case, Excellent value.      1\n",
              "2                             Great for the jawbone.      1\n",
              "3  Tied to charger for conversations lasting more...      0\n",
              "4                                  The mic is great.      1"
            ],
            "text/html": [
              "\n",
              "  <div id=\"df-34c2c500-efab-42dc-a052-f64a045acc53\" class=\"colab-df-container\">\n",
              "    <div>\n",
              "<style scoped>\n",
              "    .dataframe tbody tr th:only-of-type {\n",
              "        vertical-align: middle;\n",
              "    }\n",
              "\n",
              "    .dataframe tbody tr th {\n",
              "        vertical-align: top;\n",
              "    }\n",
              "\n",
              "    .dataframe thead th {\n",
              "        text-align: right;\n",
              "    }\n",
              "</style>\n",
              "<table border=\"1\" class=\"dataframe\">\n",
              "  <thead>\n",
              "    <tr style=\"text-align: right;\">\n",
              "      <th></th>\n",
              "      <th>Text</th>\n",
              "      <th>Label</th>\n",
              "    </tr>\n",
              "  </thead>\n",
              "  <tbody>\n",
              "    <tr>\n",
              "      <th>0</th>\n",
              "      <td>So there is no way for me to plug it in here i...</td>\n",
              "      <td>0</td>\n",
              "    </tr>\n",
              "    <tr>\n",
              "      <th>1</th>\n",
              "      <td>Good case, Excellent value.</td>\n",
              "      <td>1</td>\n",
              "    </tr>\n",
              "    <tr>\n",
              "      <th>2</th>\n",
              "      <td>Great for the jawbone.</td>\n",
              "      <td>1</td>\n",
              "    </tr>\n",
              "    <tr>\n",
              "      <th>3</th>\n",
              "      <td>Tied to charger for conversations lasting more...</td>\n",
              "      <td>0</td>\n",
              "    </tr>\n",
              "    <tr>\n",
              "      <th>4</th>\n",
              "      <td>The mic is great.</td>\n",
              "      <td>1</td>\n",
              "    </tr>\n",
              "  </tbody>\n",
              "</table>\n",
              "</div>\n",
              "    <div class=\"colab-df-buttons\">\n",
              "\n",
              "  <div class=\"colab-df-container\">\n",
              "    <button class=\"colab-df-convert\" onclick=\"convertToInteractive('df-34c2c500-efab-42dc-a052-f64a045acc53')\"\n",
              "            title=\"Convert this dataframe to an interactive table.\"\n",
              "            style=\"display:none;\">\n",
              "\n",
              "  <svg xmlns=\"http://www.w3.org/2000/svg\" height=\"24px\" viewBox=\"0 -960 960 960\">\n",
              "    <path d=\"M120-120v-720h720v720H120Zm60-500h600v-160H180v160Zm220 220h160v-160H400v160Zm0 220h160v-160H400v160ZM180-400h160v-160H180v160Zm440 0h160v-160H620v160ZM180-180h160v-160H180v160Zm440 0h160v-160H620v160Z\"/>\n",
              "  </svg>\n",
              "    </button>\n",
              "\n",
              "  <style>\n",
              "    .colab-df-container {\n",
              "      display:flex;\n",
              "      gap: 12px;\n",
              "    }\n",
              "\n",
              "    .colab-df-convert {\n",
              "      background-color: #E8F0FE;\n",
              "      border: none;\n",
              "      border-radius: 50%;\n",
              "      cursor: pointer;\n",
              "      display: none;\n",
              "      fill: #1967D2;\n",
              "      height: 32px;\n",
              "      padding: 0 0 0 0;\n",
              "      width: 32px;\n",
              "    }\n",
              "\n",
              "    .colab-df-convert:hover {\n",
              "      background-color: #E2EBFA;\n",
              "      box-shadow: 0px 1px 2px rgba(60, 64, 67, 0.3), 0px 1px 3px 1px rgba(60, 64, 67, 0.15);\n",
              "      fill: #174EA6;\n",
              "    }\n",
              "\n",
              "    .colab-df-buttons div {\n",
              "      margin-bottom: 4px;\n",
              "    }\n",
              "\n",
              "    [theme=dark] .colab-df-convert {\n",
              "      background-color: #3B4455;\n",
              "      fill: #D2E3FC;\n",
              "    }\n",
              "\n",
              "    [theme=dark] .colab-df-convert:hover {\n",
              "      background-color: #434B5C;\n",
              "      box-shadow: 0px 1px 3px 1px rgba(0, 0, 0, 0.15);\n",
              "      filter: drop-shadow(0px 1px 2px rgba(0, 0, 0, 0.3));\n",
              "      fill: #FFFFFF;\n",
              "    }\n",
              "  </style>\n",
              "\n",
              "    <script>\n",
              "      const buttonEl =\n",
              "        document.querySelector('#df-34c2c500-efab-42dc-a052-f64a045acc53 button.colab-df-convert');\n",
              "      buttonEl.style.display =\n",
              "        google.colab.kernel.accessAllowed ? 'block' : 'none';\n",
              "\n",
              "      async function convertToInteractive(key) {\n",
              "        const element = document.querySelector('#df-34c2c500-efab-42dc-a052-f64a045acc53');\n",
              "        const dataTable =\n",
              "          await google.colab.kernel.invokeFunction('convertToInteractive',\n",
              "                                                    [key], {});\n",
              "        if (!dataTable) return;\n",
              "\n",
              "        const docLinkHtml = 'Like what you see? Visit the ' +\n",
              "          '<a target=\"_blank\" href=https://colab.research.google.com/notebooks/data_table.ipynb>data table notebook</a>'\n",
              "          + ' to learn more about interactive tables.';\n",
              "        element.innerHTML = '';\n",
              "        dataTable['output_type'] = 'display_data';\n",
              "        await google.colab.output.renderOutput(dataTable, element);\n",
              "        const docLink = document.createElement('div');\n",
              "        docLink.innerHTML = docLinkHtml;\n",
              "        element.appendChild(docLink);\n",
              "      }\n",
              "    </script>\n",
              "  </div>\n",
              "\n",
              "\n",
              "<div id=\"df-ae810fda-d592-4524-abe6-92651809757a\">\n",
              "  <button class=\"colab-df-quickchart\" onclick=\"quickchart('df-ae810fda-d592-4524-abe6-92651809757a')\"\n",
              "            title=\"Suggest charts.\"\n",
              "            style=\"display:none;\">\n",
              "\n",
              "<svg xmlns=\"http://www.w3.org/2000/svg\" height=\"24px\"viewBox=\"0 0 24 24\"\n",
              "     width=\"24px\">\n",
              "    <g>\n",
              "        <path d=\"M19 3H5c-1.1 0-2 .9-2 2v14c0 1.1.9 2 2 2h14c1.1 0 2-.9 2-2V5c0-1.1-.9-2-2-2zM9 17H7v-7h2v7zm4 0h-2V7h2v10zm4 0h-2v-4h2v4z\"/>\n",
              "    </g>\n",
              "</svg>\n",
              "  </button>\n",
              "\n",
              "<style>\n",
              "  .colab-df-quickchart {\n",
              "      --bg-color: #E8F0FE;\n",
              "      --fill-color: #1967D2;\n",
              "      --hover-bg-color: #E2EBFA;\n",
              "      --hover-fill-color: #174EA6;\n",
              "      --disabled-fill-color: #AAA;\n",
              "      --disabled-bg-color: #DDD;\n",
              "  }\n",
              "\n",
              "  [theme=dark] .colab-df-quickchart {\n",
              "      --bg-color: #3B4455;\n",
              "      --fill-color: #D2E3FC;\n",
              "      --hover-bg-color: #434B5C;\n",
              "      --hover-fill-color: #FFFFFF;\n",
              "      --disabled-bg-color: #3B4455;\n",
              "      --disabled-fill-color: #666;\n",
              "  }\n",
              "\n",
              "  .colab-df-quickchart {\n",
              "    background-color: var(--bg-color);\n",
              "    border: none;\n",
              "    border-radius: 50%;\n",
              "    cursor: pointer;\n",
              "    display: none;\n",
              "    fill: var(--fill-color);\n",
              "    height: 32px;\n",
              "    padding: 0;\n",
              "    width: 32px;\n",
              "  }\n",
              "\n",
              "  .colab-df-quickchart:hover {\n",
              "    background-color: var(--hover-bg-color);\n",
              "    box-shadow: 0 1px 2px rgba(60, 64, 67, 0.3), 0 1px 3px 1px rgba(60, 64, 67, 0.15);\n",
              "    fill: var(--button-hover-fill-color);\n",
              "  }\n",
              "\n",
              "  .colab-df-quickchart-complete:disabled,\n",
              "  .colab-df-quickchart-complete:disabled:hover {\n",
              "    background-color: var(--disabled-bg-color);\n",
              "    fill: var(--disabled-fill-color);\n",
              "    box-shadow: none;\n",
              "  }\n",
              "\n",
              "  .colab-df-spinner {\n",
              "    border: 2px solid var(--fill-color);\n",
              "    border-color: transparent;\n",
              "    border-bottom-color: var(--fill-color);\n",
              "    animation:\n",
              "      spin 1s steps(1) infinite;\n",
              "  }\n",
              "\n",
              "  @keyframes spin {\n",
              "    0% {\n",
              "      border-color: transparent;\n",
              "      border-bottom-color: var(--fill-color);\n",
              "      border-left-color: var(--fill-color);\n",
              "    }\n",
              "    20% {\n",
              "      border-color: transparent;\n",
              "      border-left-color: var(--fill-color);\n",
              "      border-top-color: var(--fill-color);\n",
              "    }\n",
              "    30% {\n",
              "      border-color: transparent;\n",
              "      border-left-color: var(--fill-color);\n",
              "      border-top-color: var(--fill-color);\n",
              "      border-right-color: var(--fill-color);\n",
              "    }\n",
              "    40% {\n",
              "      border-color: transparent;\n",
              "      border-right-color: var(--fill-color);\n",
              "      border-top-color: var(--fill-color);\n",
              "    }\n",
              "    60% {\n",
              "      border-color: transparent;\n",
              "      border-right-color: var(--fill-color);\n",
              "    }\n",
              "    80% {\n",
              "      border-color: transparent;\n",
              "      border-right-color: var(--fill-color);\n",
              "      border-bottom-color: var(--fill-color);\n",
              "    }\n",
              "    90% {\n",
              "      border-color: transparent;\n",
              "      border-bottom-color: var(--fill-color);\n",
              "    }\n",
              "  }\n",
              "</style>\n",
              "\n",
              "  <script>\n",
              "    async function quickchart(key) {\n",
              "      const quickchartButtonEl =\n",
              "        document.querySelector('#' + key + ' button');\n",
              "      quickchartButtonEl.disabled = true;  // To prevent multiple clicks.\n",
              "      quickchartButtonEl.classList.add('colab-df-spinner');\n",
              "      try {\n",
              "        const charts = await google.colab.kernel.invokeFunction(\n",
              "            'suggestCharts', [key], {});\n",
              "      } catch (error) {\n",
              "        console.error('Error during call to suggestCharts:', error);\n",
              "      }\n",
              "      quickchartButtonEl.classList.remove('colab-df-spinner');\n",
              "      quickchartButtonEl.classList.add('colab-df-quickchart-complete');\n",
              "    }\n",
              "    (() => {\n",
              "      let quickchartButtonEl =\n",
              "        document.querySelector('#df-ae810fda-d592-4524-abe6-92651809757a button');\n",
              "      quickchartButtonEl.style.display =\n",
              "        google.colab.kernel.accessAllowed ? 'block' : 'none';\n",
              "    })();\n",
              "  </script>\n",
              "</div>\n",
              "    </div>\n",
              "  </div>\n"
            ]
          },
          "metadata": {},
          "execution_count": 26
        }
      ]
    },
    {
      "cell_type": "code",
      "source": [
        "df.shape"
      ],
      "metadata": {
        "colab": {
          "base_uri": "https://localhost:8080/"
        },
        "id": "_hPacS5vxPGN",
        "outputId": "0eddf844-28a7-4298-c620-0584fe890718"
      },
      "execution_count": null,
      "outputs": [
        {
          "output_type": "execute_result",
          "data": {
            "text/plain": [
              "(1000, 2)"
            ]
          },
          "metadata": {},
          "execution_count": 27
        }
      ]
    },
    {
      "cell_type": "code",
      "source": [
        "import re\n",
        "reviews = df[\"Text\"]\n",
        "labels = df[\"Label\"]\n",
        "\n",
        "def punctuationExclude(text):\n",
        "    return re.sub(r'[^\\w\\s]', '', text)\n",
        "reviews = reviews.apply(punctuationExclude)\n",
        "\n",
        "print(\"Reviews:\")\n",
        "reviews.head()\n"
      ],
      "metadata": {
        "colab": {
          "base_uri": "https://localhost:8080/"
        },
        "id": "U7WSJtLnvU4H",
        "outputId": "1fcdaf83-9d2c-499d-eb0a-72c3e2f3dcf5"
      },
      "execution_count": null,
      "outputs": [
        {
          "output_type": "stream",
          "name": "stdout",
          "text": [
            "Reviews:\n"
          ]
        },
        {
          "output_type": "execute_result",
          "data": {
            "text/plain": [
              "0    So there is no way for me to plug it in here i...\n",
              "1                            Good case Excellent value\n",
              "2                                Great for the jawbone\n",
              "3    Tied to charger for conversations lasting more...\n",
              "4                                     The mic is great\n",
              "Name: Text, dtype: object"
            ]
          },
          "metadata": {},
          "execution_count": 28
        }
      ]
    },
    {
      "cell_type": "code",
      "source": [
        "# Combining all the reviews into a single string\n",
        "all_reviews= ' '.join(reviews)\n",
        "\n",
        "words = all_reviews.split()\n",
        "word_vocabulary = set(words)\n",
        "word_vocabularyList = list(word_vocabulary)\n",
        "\n"
      ],
      "metadata": {
        "id": "H96LU8Rkz8LB"
      },
      "execution_count": null,
      "outputs": []
    },
    {
      "cell_type": "code",
      "source": [
        "word_toIndex = {}\n",
        "for idx, word in enumerate(word_vocabulary):\n",
        "    word_toIndex[word] = idx\n"
      ],
      "metadata": {
        "id": "YaYRA_8u1762"
      },
      "execution_count": null,
      "outputs": []
    },
    {
      "cell_type": "code",
      "source": [
        "encodedReviews = []\n",
        "\n",
        "for review in reviews:\n",
        "    encoded_review = [word_toIndex[word] for word in review.split()]\n",
        "    encodedReviews.append(encoded_review)\n"
      ],
      "metadata": {
        "id": "xnZLssNM2S2H"
      },
      "execution_count": null,
      "outputs": []
    },
    {
      "cell_type": "code",
      "source": [
        "class SentimentClassifier(nn.Module):\n",
        "    def __init__(self, vocab_size, embedding_dim, hidden_dim, num_layers):\n",
        "        super(SentimentClassifier, self).__init__()\n",
        "        self.embedding = nn.Embedding(vocab_size, embedding_dim)\n",
        "        self.lstm = nn.LSTM(embedding_dim, hidden_dim, num_layers, batch_first=True)\n",
        "        self.fc = nn.Linear(hidden_dim, 1)\n",
        "        self.sigmoid = nn.Sigmoid()\n",
        "\n",
        "    def forward(self, x):\n",
        "        x = self.embedding(x)\n",
        "        x, _ = self.lstm(x)\n",
        "        x = x[:, -1, :]\n",
        "        x = self.fc(x)\n",
        "        x = self.sigmoid(x)\n",
        "        return x"
      ],
      "metadata": {
        "id": "0SNzQE075Tgl"
      },
      "execution_count": null,
      "outputs": []
    },
    {
      "cell_type": "code",
      "source": [
        "vocab_size = len(word_vocabulary)\n",
        "embedding_dim = 64\n",
        "hidden_dim = 128\n",
        "num_layers = 3\n",
        "\n",
        "model = SentimentClassifier(vocab_size, embedding_dim, hidden_dim, num_layers)\n",
        "criterion = nn.BCELoss()\n",
        "optimizer = optim.Adam(model.parameters())\n",
        "epochs = 10\n"
      ],
      "metadata": {
        "id": "G7Uz-3mfWc-q"
      },
      "execution_count": null,
      "outputs": []
    },
    {
      "cell_type": "code",
      "source": [
        "loss_arr= []\n",
        "accuracy_arr = []\n",
        "\n",
        "for epoch in range(epochs):\n",
        "    running_loss = 0.0\n",
        "    correct_predictions = 0\n",
        "    total_samples = len(encodedReviews)\n",
        "\n",
        "    for i in range(total_samples):\n",
        "        review = torch.tensor(encodedReviews[i], dtype=torch.long)\n",
        "        label = torch.tensor(labels[i], dtype=torch.float)\n",
        "\n",
        "        optimizer.zero_grad()\n",
        "\n",
        "        outputs = model(review.unsqueeze(0))\n",
        "        loss = criterion(outputs.squeeze(), label)\n",
        "        loss.backward()\n",
        "        optimizer.step()\n",
        "\n",
        "        running_loss += loss.item()\n",
        "        predicted_label = 1 if outputs.item() > 0.5 else 0\n",
        "        correct_predictions += (predicted_label == label.item())\n",
        "\n",
        "    epoch_loss = running_loss / total_samples\n",
        "    accuracy = correct_predictions / total_samples\n",
        "    loss_arr.append(epoch_loss)\n",
        "    accuracy_arr.append(accuracy)\n",
        "\n",
        "    print(f\"Epoch {epoch + 1}/{epochs}, Loss: {epoch_loss:.4f}, Accuracy: {accuracy:.4f}\")\n"
      ],
      "metadata": {
        "colab": {
          "base_uri": "https://localhost:8080/"
        },
        "id": "nFURU_ZZayjs",
        "outputId": "aa49b5bc-a2e2-4128-ec9b-c9d3fdd5c177"
      },
      "execution_count": null,
      "outputs": [
        {
          "output_type": "stream",
          "name": "stdout",
          "text": [
            "Epoch 1/10, Loss: 0.6672, Accuracy: 0.6080\n",
            "Epoch 2/10, Loss: 0.5538, Accuracy: 0.7340\n",
            "Epoch 3/10, Loss: 0.3956, Accuracy: 0.8190\n",
            "Epoch 4/10, Loss: 0.2284, Accuracy: 0.9150\n",
            "Epoch 5/10, Loss: 0.1219, Accuracy: 0.9480\n",
            "Epoch 6/10, Loss: 0.0444, Accuracy: 0.9890\n",
            "Epoch 7/10, Loss: 0.0709, Accuracy: 0.9770\n",
            "Epoch 8/10, Loss: 0.0294, Accuracy: 0.9910\n",
            "Epoch 9/10, Loss: 0.0250, Accuracy: 0.9900\n",
            "Epoch 10/10, Loss: 0.0191, Accuracy: 0.9940\n"
          ]
        }
      ]
    },
    {
      "cell_type": "code",
      "source": [
        "sns.set(style=\"whitegrid\")\n",
        "plt.figure(figsize=(6, 3))\n",
        "\n",
        "plt.subplot(1, 2, 1)\n",
        "sns.lineplot(x=range(len(loss_arr)), y=loss_arr, marker='o', linestyle='-', color='blue', label='losses')\n",
        "plt.xlabel('Epoch')\n",
        "plt.ylabel('Loss')\n",
        "plt.title('Loss Over Time')\n",
        "plt.legend()\n",
        "\n",
        "\n",
        "plt.subplot(1, 2, 2)\n",
        "sns.lineplot(x=range(len(accuracy_arr)), y=accuracy_arr, marker='o', linestyle='-', color='green', label='accuracies')\n",
        "plt.xlabel('Epoch')\n",
        "plt.ylabel('Accuracy')\n",
        "plt.title('Accuracy Over Time')\n",
        "plt.legend()\n",
        "plt.tight_layout()\n",
        "plt.show()\n"
      ],
      "metadata": {
        "colab": {
          "base_uri": "https://localhost:8080/",
          "height": 301
        },
        "id": "sueVZGbw8Gn2",
        "outputId": "dedd2974-3130-4868-eec1-a9a4a9d9f037"
      },
      "execution_count": null,
      "outputs": [
        {
          "output_type": "display_data",
          "data": {
            "text/plain": [
              "<Figure size 600x300 with 2 Axes>"
            ],
            "image/png": "[encoded data removed]"
          },
          "metadata": {}
        }
      ]
    },
    {
      "cell_type": "markdown",
      "source": [
        "Consider the following text:\n",
        "sentence =\n",
        "\n",
        "\n",
        " “””The larger Broncos will be available with 35-inch off-road tires and will be able\n",
        "to drive through water nearly 3 feet, 10 inches deep. It has independent front\n",
        "\n",
        "DATA 690 2\n",
        "suspension, unlike its main competitor, the Jeep Wrangler. Independent suspension, used\n",
        "on almost all modern passenger vehicles, generally provides a smoother ride and better on -\n",
        "road handling than a single solid axle. It still has a solid axle in the back though, like most\n",
        "pickup trucks, a design suited to hard use. Like the Wrangler, both the two- and four-door\n",
        "Bronco will have a removable roofs and doors. Buyers will be able to choose either a hard\n",
        "roof that can be removed in sections, a cloth top, or both. Unlike the Wrangler, though, the\n",
        "Bronco's doors will fit inside the vehicle after being removed. The Bronco will be available\n",
        "with a choice of either a 10-speed automatic or seven-speed manual transmission. (The\n",
        "manual transmission will have six gears for ordinary driving, plus a seventh for low speed\n",
        "off-road driving.) It will be powered by either a 270- horsepower 2.3-liter turbocharged 4-\n",
        "cylinder engine or a 310-horsepower 2.7-liter turbocharged V6. While all of the new Bronco\n",
        "SUVs are designed for hard off-road use, the Bronco Sport isn't quite as hard-core in its\n",
        "capabilities. It also has more convenience features than the more truck-like Bronco. While\n",
        "it's based on engineering that's similar to car-like crossover SUVs, Ford says that it's still\n",
        "intended for serious off-road use. Ford engineers boasted of the off-road testing the\n",
        "prototypes have been put through, including driving through deep sand, up steep inclines ,\n",
        "and crawling across boulder-strewn trails.”””\n",
        "\n",
        "\n",
        "Perform the following task on the above sentences:\n",
        "1. Replace special characters with empty spaces. You can use regex or any other method\n",
        "2. Remove multiple empty spaces and replace them with a single space\n",
        "3. Remove any single character\n",
        "4. Convert the text to all lowercase\n",
        "5. Split the text into individual words\n",
        "6. Remove stopwords\n",
        "7. Tokenize, stem, and lemmatize the text\n",
        "6. What is the overall sentiment and subjectivity of the text"
      ],
      "metadata": {
        "id": "rZ4B5CUUbfFK"
      }
    },
    {
      "cell_type": "code",
      "source": [
        "import nltk\n",
        "nltk.download('punkt')\n",
        "nltk.download('stopwords')\n",
        "nltk.download('wordnet')\n",
        "nltk.download('vader_lexicon')"
      ],
      "metadata": {
        "id": "9j85ZZYCcrsP",
        "colab": {
          "base_uri": "https://localhost:8080/"
        },
        "outputId": "2568f797-accd-4f57-c00b-9fc8f4ca0acd"
      },
      "execution_count": 17,
      "outputs": [
        {
          "output_type": "stream",
          "name": "stderr",
          "text": [
            "[nltk_data] Downloading package punkt to /root/nltk_data...\n",
            "[nltk_data]   Package punkt is already up-to-date!\n",
            "[nltk_data] Downloading package stopwords to /root/nltk_data...\n",
            "[nltk_data]   Package stopwords is already up-to-date!\n",
            "[nltk_data] Downloading package wordnet to /root/nltk_data...\n",
            "[nltk_data]   Package wordnet is already up-to-date!\n",
            "[nltk_data] Downloading package vader_lexicon to /root/nltk_data...\n"
          ]
        },
        {
          "output_type": "execute_result",
          "data": {
            "text/plain": [
              "True"
            ]
          },
          "metadata": {},
          "execution_count": 17
        }
      ]
    },
    {
      "cell_type": "code",
      "source": [
        "import re\n",
        "import string\n",
        "from nltk.corpus import stopwords\n",
        "from nltk.stem import WordNetLemmatizer\n",
        "from nltk.tokenize import word_tokenize\n",
        "from textblob import TextBlob\n",
        "from nltk.stem import PorterStemmer"
      ],
      "metadata": {
        "id": "CTsp0AKaSSM7"
      },
      "execution_count": 3,
      "outputs": []
    },
    {
      "cell_type": "code",
      "source": [
        "text = \"\"\"The larger Broncos will be available with 35-inch off-road tires and will be able\n",
        "to drive through water nearly 3 feet, 10 inches deep. It has independent front suspension, unlike its main competitor, the Jeep Wrangler. Independent suspension, used\n",
        "on almost all modern passenger vehicles, generally provides a smoother ride and better on -\n",
        "road handling than a single solid axle. It still has a solid axle in the back though, like most\n",
        "pickup trucks, a design suited to hard use. Like the Wrangler, both the two- and four-door\n",
        "Bronco will have a removable roofs and doors. Buyers will be able to choose either a hard\n",
        "roof that can be removed in sections, a cloth top, or both. Unlike the Wrangler, though, the\n",
        "Bronco's doors will fit inside the vehicle after being removed. The Bronco will be available\n",
        "with a choice of either a 10-speed automatic or seven-speed manual transmission. (The\n",
        "manual transmission will have six gears for ordinary driving, plus a seventh for low speed\n",
        "off-road driving.) It will be powered by either a 270- horsepower 2.3-liter turbocharged 4-\n",
        "cylinder engine or a 310-horsepower 2.7-liter turbocharged V6. While all of the new Bronco\n",
        "SUVs are designed for hard off-road use, the Bronco Sport isn't quite as hard-core in its\n",
        "capabilities. It also has more convenience features than the more truck-like Bronco. While\n",
        "it's based on engineering that's similar to car-like crossover SUVs, Ford says that it's still\n",
        "intended for serious off-road use. Ford engineers boasted of the off-road testing the\n",
        "prototypes have been put through, including driving through deep sand, up steep inclines ,\n",
        "and crawling across boulder-strewn trails.\"\"\"\n",
        "# Replacing special characters\n",
        "cleaned_text = re.sub(r'[^a-zA-Z0-9\\s]', ' ', text)\n"
      ],
      "metadata": {
        "id": "AauXftsCSUcx"
      },
      "execution_count": 9,
      "outputs": []
    },
    {
      "cell_type": "code",
      "source": [
        "# Removing extra spaces\n",
        "cleaned_text = re.sub(r'\\s+', ' ', cleaned_text)\n",
        "\n",
        "# Removing single characters\n",
        "cleaned_text = re.sub(r'\\s[a-zA-Z]\\s', ' ', cleaned_text)\n",
        "\n",
        "# Converting the entire text to lower case\n",
        "cleaned_text = cleaned_text.lower()\n",
        "\n",
        "# Tokenizing the words\n",
        "words_text = word_tokenize(cleaned_text)\n",
        "\n",
        "# Removing stopwords\n",
        "stop_words = set(stopwords.words('english'))\n",
        "words_text = [word for word in words_text if word not in stop_words]\n",
        "\n",
        "# Stemming and lemmatization to reduce words to their base or root form\n",
        "word_stemmer = PorterStemmer()\n",
        "word_lemmatizer = WordNetLemmatizer()\n",
        "words = [word_lemmatizer.lemmatize(word_stemmer.stem(word)) for word in words_text]\n",
        "\n",
        "print(words)"
      ],
      "metadata": {
        "colab": {
          "base_uri": "https://localhost:8080/"
        },
        "id": "UgrVu_h-SX1T",
        "outputId": "8a0e3724-5b88-41cc-8e52-27f415964346"
      },
      "execution_count": 10,
      "outputs": [
        {
          "output_type": "stream",
          "name": "stdout",
          "text": [
            "['larger', 'bronco', 'avail', '35', 'inch', 'road', 'tire', 'abl', 'drive', 'water', 'nearli', '3', 'foot', '10', 'inch', 'deep', 'independ', 'front', 'suspens', 'unlik', 'main', 'competitor', 'jeep', 'wrangler', 'independ', 'suspens', 'use', 'almost', 'modern', 'passeng', 'vehicl', 'gener', 'provid', 'smoother', 'ride', 'better', 'road', 'handl', 'singl', 'solid', 'axl', 'still', 'solid', 'axl', 'back', 'though', 'like', 'pickup', 'truck', 'design', 'suit', 'hard', 'use', 'like', 'wrangler', 'two', 'four', 'door', 'bronco', 'remov', 'roof', 'door', 'buyer', 'abl', 'choos', 'either', 'hard', 'roof', 'remov', 'section', 'cloth', 'top', 'unlik', 'wrangler', 'though', 'bronco', 'door', 'fit', 'insid', 'vehicl', 'remov', 'bronco', 'avail', 'choic', 'either', '10', 'speed', 'automat', 'seven', 'speed', 'manual', 'transmiss', 'manual', 'transmiss', 'six', 'gear', 'ordinari', 'drive', 'plu', 'seventh', 'low', 'speed', 'road', 'drive', 'power', 'either', '270', 'horsepow', '2', '3', 'liter', 'turbocharg', '4', 'cylind', 'engin', '310', 'horsepow', '2', '7', 'liter', 'turbocharg', 'v6', 'new', 'bronco', 'suv', 'design', 'hard', 'road', 'use', 'bronco', 'sport', 'quit', 'hard', 'core', 'capabl', 'also', 'conveni', 'featur', 'truck', 'like', 'bronco', 'base', 'engin', 'similar', 'car', 'like', 'crossov', 'suv', 'ford', 'say', 'still', 'intend', 'seriou', 'road', 'use', 'ford', 'engin', 'boast', 'road', 'test', 'prototyp', 'put', 'includ', 'drive', 'deep', 'sand', 'steep', 'inclin', 'crawl', 'across', 'boulder', 'strewn', 'trail']\n"
          ]
        }
      ]
    },
    {
      "cell_type": "code",
      "source": [
        "from nltk.sentiment.vader import SentimentIntensityAnalyzer\n",
        "\n",
        "analyzer = SentimentIntensityAnalyzer()\n",
        "sentiment_scores = analyzer.polarity_scores(text)\n",
        "\n",
        "if sentiment_scores['compound'] > 0.05:\n",
        "    sentiment_label = \"Positive\"\n",
        "elif sentiment_scores['compound'] < -0.05:\n",
        "    sentiment_label = \"Negative\"\n",
        "else:\n",
        "    sentiment_label = \"Neutral\"\n",
        "print(f\"Sentiment: {sentiment_label}\")\n",
        "print(f\"Polarity: {polarity}\")"
      ],
      "metadata": {
        "id": "IICp0sthU646",
        "colab": {
          "base_uri": "https://localhost:8080/"
        },
        "outputId": "b6f4504f-c03b-4177-a528-22f58edd3016"
      },
      "execution_count": 22,
      "outputs": [
        {
          "output_type": "stream",
          "name": "stdout",
          "text": [
            "Sentiment: Positive\n",
            "Polarity: 0.12333123865381931\n"
          ]
        }
      ]
    },
    {
      "cell_type": "code",
      "source": [
        "blob = TextBlob(text)\n",
        "subjectivity = blob.sentiment.subjectivity\n",
        "print(f\"Subjectivity: {subjectivity}\")"
      ],
      "metadata": {
        "colab": {
          "base_uri": "https://localhost:8080/"
        },
        "id": "eORFw-wspLWT",
        "outputId": "cf2b1df0-56ba-4978-90d9-103cae39f33a"
      },
      "execution_count": 23,
      "outputs": [
        {
          "output_type": "stream",
          "name": "stdout",
          "text": [
            "Subjectivity: 0.39980100544616676\n"
          ]
        }
      ]
    },
    {
      "cell_type": "code",
      "source": [],
      "metadata": {
        "id": "puELOhIKpjxJ"
      },
      "execution_count": null,
      "outputs": []
    }
  ]
}