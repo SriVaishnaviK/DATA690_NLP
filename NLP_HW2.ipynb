{
  "nbformat": 4,
  "nbformat_minor": 0,
  "metadata": {
    "colab": {
      "provenance": []
    },
    "kernelspec": {
      "name": "python3",
      "display_name": "Python 3"
    },
    "language_info": {
      "name": "python"
    }
  },
  "cells": [
    {
      "cell_type": "markdown",
      "source": [
        "1. Make sure you have installed BeautifulSoup and lxml\n",
        "2. Use the website https://pythonprogramming.net/parsememcparseface/\n",
        "3. Connect to the website using urllib.request\n",
        "4. Create an object called ‘soup’ using the source\n",
        "5. Print page title, get attributes, values, and beginning navigation. Get specific\n",
        "values.\n",
        "6. Find all the paragraph instead of just one in the previous query\n",
        "7. You can iterate through them using ‘str(paragraph.text)’\n",
        "8. Grab all the links through ‘url.get(‘here)\n",
        "9. Just grab the text using ‘get_text’"
      ],
      "metadata": {
        "id": "f22q__bOzIqk"
      }
    },
    {
      "cell_type": "code",
      "source": [
        "!pip install lxml\n"
      ],
      "metadata": {
        "colab": {
          "base_uri": "https://localhost:8080/"
        },
        "id": "xmjzxtsozL3g",
        "outputId": "4f335b0c-e697-4466-fcd9-230ea21688f9"
      },
      "execution_count": 1,
      "outputs": [
        {
          "output_type": "stream",
          "name": "stdout",
          "text": [
            "Requirement already satisfied: lxml in /usr/local/lib/python3.10/dist-packages (4.9.3)\n"
          ]
        }
      ]
    },
    {
      "cell_type": "code",
      "source": [
        "!pip install beautifulsoup4\n"
      ],
      "metadata": {
        "colab": {
          "base_uri": "https://localhost:8080/"
        },
        "id": "CelVyko2zuYr",
        "outputId": "54011465-299f-4da8-e3d8-299922fba632"
      },
      "execution_count": 2,
      "outputs": [
        {
          "output_type": "stream",
          "name": "stdout",
          "text": [
            "Requirement already satisfied: beautifulsoup4 in /usr/local/lib/python3.10/dist-packages (4.11.2)\n",
            "Requirement already satisfied: soupsieve>1.2 in /usr/local/lib/python3.10/dist-packages (from beautifulsoup4) (2.5)\n"
          ]
        }
      ]
    },
    {
      "cell_type": "code",
      "source": [
        "from urllib import request\n",
        "\n",
        "url = \"https://pythonprogramming.net/parsememcparseface/\"\n",
        "content = request.urlopen(url).read().decode('utf8')\n"
      ],
      "metadata": {
        "id": "iGaauB_80PKJ"
      },
      "execution_count": 31,
      "outputs": []
    },
    {
      "cell_type": "code",
      "source": [
        "from bs4 import BeautifulSoup\n",
        "\n",
        "soup = BeautifulSoup(content, 'html.parser')\n",
        "print(\"Title:\", soup.title.text)\n"
      ],
      "metadata": {
        "colab": {
          "base_uri": "https://localhost:8080/"
        },
        "id": "FAP-MNtD2yug",
        "outputId": "b27ebe52-59b7-463f-fd4b-d0783248f844"
      },
      "execution_count": 32,
      "outputs": [
        {
          "output_type": "stream",
          "name": "stdout",
          "text": [
            "Title: Python Programming Tutorials\n"
          ]
        }
      ]
    },
    {
      "cell_type": "code",
      "source": [
        "# to acquire values in a specific column of the table\n",
        "table = soup.find('table')\n",
        "index = 0 #values from column one\n",
        "values = []\n",
        "rows = table.find_all('tr')\n",
        "for x in rows:\n",
        "    columns = x.find_all('td')\n",
        "    if len(columns) > index:\n",
        "      cell_value = columns[index].get_text()\n",
        "      values.append(cell_value)\n",
        "\n",
        "for i in values:\n",
        "    print(i)\n",
        "\n",
        "\n",
        "\n"
      ],
      "metadata": {
        "id": "MRqFuCrY5ZoA",
        "colab": {
          "base_uri": "https://localhost:8080/"
        },
        "outputId": "7bc4b99f-5924-4f1d-e6d2-f6189ec9f872"
      },
      "execution_count": 33,
      "outputs": [
        {
          "output_type": "stream",
          "name": "stdout",
          "text": [
            "Python\n",
            "Pascal\n",
            "Lisp\n",
            "D#\n",
            "Cobol\n",
            "Fortran\n",
            "Haskell\n"
          ]
        }
      ]
    },
    {
      "cell_type": "code",
      "source": [
        "#All the attributes and their corresponding values\n",
        "attributes = {}\n",
        "for element in soup.find_all(True):\n",
        "    for x, value in element.attrs.items():\n",
        "        if x in attributes:\n",
        "            if isinstance(attributes[x], list):\n",
        "                attributes[x].append(value)\n",
        "            else:\n",
        "                attributes[x] = [attributes[x], value]\n",
        "        else:\n",
        "            attributes[x] = value\n",
        "for attribute, value in attributes.items():\n",
        "    print(f\"{attribute}: {value}\")"
      ],
      "metadata": {
        "colab": {
          "base_uri": "https://localhost:8080/"
        },
        "id": "dCEvC5HT-y_K",
        "outputId": "db7068e8-5dd1-4eea-939b-3a9d3e63407a"
      },
      "execution_count": 36,
      "outputs": [
        {
          "output_type": "stream",
          "name": "stdout",
          "text": [
            "name: ['viewport', 'description', 'google-site-verification', 'q', 'q']\n",
            "content: ['width=device-width, initial-scale=1.0', 'Python Programming tutorials from beginner to advanced on a massive variety of topics. All video and text tutorials are free.', '3fLok05gk5gGtWd_VSXbSSSH27F2kr1QqcxYz9vYq2k']\n",
            "rel: ['shortcut', 'icon', ['stylesheet'], ['stylesheet'], ['stylesheet'], ['stylesheet'], ['stylesheet'], ['stylesheet'], ['stylesheet'], ['stylesheet'], ['stylesheet']]\n",
            "href: ['/static/favicon.ico', '/static/css/materialize.min.css', 'https://fonts.googleapis.com/icon?family=Material+Icons', '/static/css/bootstrap.css', '/', '#', '/', '/+=1/', '/support/', 'https://goo.gl/7zgAVQ', '/login/', '/register/', '/', '/+=1/', '/support/', 'https://goo.gl/7zgAVQ', '/login/', '/register/', 'https://www.crummy.com/software/BeautifulSoup/bs4/doc/', '/sitemap.xml', '/support-donate/', '/consulting/', 'https://www.facebook.com/pythonprogramming.net/', 'https://twitter.com/sentdex', 'https://instagram.com/sentdex', '/about/tos/', '/about/privacy-policy/', 'https://xkcd.com/353/']\n",
            "type: ['text/css', 'search', 'search', 'text/javascript']\n",
            "src: ['https://code.jquery.com/jquery-2.1.4.min.js', 'https://cdnjs.cloudflare.com/ajax/libs/materialize/0.97.3/js/materialize.min.js', '//pagead2.googlesyndication.com/pagead/js/adsbygoogle.js', '/static/images/mainlogowhitethick.jpg', 'https://s-media-cache-ak0.pinimg.com/originals/e8/2a/ff/e82aff2876b080675449d0cef7685321.jpg', '/static/js/run_prettify.js']\n",
            "async: \n",
            "class: ['navbar-fixed', ['nav-wrapper', 'container'], ['brand-logo'], ['img-responsive'], ['button-collapse'], ['mdi-navigation-menu'], ['right', 'hide-on-med-and-down'], ['material-icons'], ['tooltipped'], ['side-nav'], ['tooltipped'], ['container'], ['body'], ['introduction'], ['card', 'hoverable'], ['card-content'], ['card-title'], ['responsive-img'], ['jstest'], ['page-footer'], ['container'], ['row'], ['col', 'l6', 's12'], ['white-text'], ['grey-text', 'text-lighten-4'], ['grey-text', 'text-lighten-3'], ['grey-text', 'text-lighten-3'], ['grey-text', 'text-lighten-3'], ['grey-text', 'text-lighten-3'], ['grey-text', 'text-lighten-3'], ['col', 'l4', 'offset-l2', 's12'], ['white-text'], ['grey-text', 'text-lighten-3'], ['grey-text', 'text-lighten-3'], ['grey-text', 'right'], ['footer-copyright'], ['container'], ['nav-wrapper', 'container'], ['brand-logo'], ['img-responsive'], ['button-collapse'], ['mdi-navigation-menu'], ['right', 'hide-on-med-and-down'], ['material-icons'], ['tooltipped'], ['side-nav'], ['tooltipped'], ['container'], ['body'], ['introduction'], ['card', 'hoverable'], ['card-content'], ['card-title'], ['responsive-img'], ['jstest'], ['page-footer'], ['container'], ['row'], ['col', 'l6', 's12'], ['white-text'], ['grey-text', 'text-lighten-4'], ['grey-text', 'text-lighten-3'], ['grey-text', 'text-lighten-3'], ['grey-text', 'text-lighten-3'], ['grey-text', 'text-lighten-3'], ['grey-text', 'text-lighten-3'], ['col', 'l4', 'offset-l2', 's12'], ['white-text'], ['grey-text', 'text-lighten-3'], ['grey-text', 'text-lighten-3'], ['grey-text', 'right'], ['footer-copyright'], ['container'], ['nav-wrapper', 'container'], ['brand-logo'], ['img-responsive'], ['button-collapse'], ['mdi-navigation-menu'], ['right', 'hide-on-med-and-down'], ['material-icons'], ['tooltipped'], ['side-nav'], ['tooltipped'], ['container'], ['body'], ['introduction'], ['card', 'hoverable'], ['card-content'], ['card-title'], ['responsive-img'], ['jstest'], ['page-footer'], ['container'], ['row'], ['col', 'l6', 's12'], ['white-text'], ['grey-text', 'text-lighten-4'], ['grey-text', 'text-lighten-3'], ['grey-text', 'text-lighten-3'], ['grey-text', 'text-lighten-3'], ['grey-text', 'text-lighten-3'], ['grey-text', 'text-lighten-3'], ['col', 'l4', 'offset-l2', 's12'], ['white-text'], ['grey-text', 'text-lighten-3'], ['grey-text', 'text-lighten-3'], ['grey-text', 'right'], ['footer-copyright'], ['container']]\n",
            "style: ['background-color:#003F72', 'width:50px; height;50px; margin-top:5px', 'height:50px; padding-top:10px', 'font-size:16px', 'height:50px; padding-top:10px', 'font-size:16px', 'max-width:1500px; min-height:100%', 'font-size:115%', 'width:100%', 'padding-right:10px']\n",
            "data-activates: navsidebar\n",
            "method: ['get', 'get']\n",
            "id: ['searchform', 'search', 'navsidebar', 'searchform', 'search', 'yesnojs']\n",
            "action: ['/search/?l=hi', '/search/?l=hi']\n",
            "placeholder: ['search', 'search']\n",
            "data-position: ['bottom', 'bottom']\n",
            "data-delay: ['50', '50']\n",
            "data-tooltip: ['sudo apt-get upgrade', 'sudo apt-get upgrade']\n",
            "target: ['blank', 'blank', 'blank', 'blank', 'blank']\n",
            "alt: omg batman\n"
          ]
        }
      ]
    },
    {
      "cell_type": "code",
      "source": [
        "#Beginning navigation, printing the first paragraph\n",
        "paras = soup.find('p')\n",
        "print(paras.text)"
      ],
      "metadata": {
        "colab": {
          "base_uri": "https://localhost:8080/"
        },
        "id": "0tapK3eznKQv",
        "outputId": "929de1a8-e5c8-4e13-edf9-f92261d7041b"
      },
      "execution_count": 7,
      "outputs": [
        {
          "output_type": "stream",
          "name": "stdout",
          "text": [
            "Oh, hello! This is a wonderful page meant to let you practice web scraping. This page was originally created to help people work with the Beautiful Soup 4 library.\n"
          ]
        }
      ]
    },
    {
      "cell_type": "code",
      "source": [
        "#Find all the paragraph instead of just one in the previous query\n",
        "paras = soup.find_all(\"p\")\n",
        "if paras:\n",
        "    for x in paras[1:]:\n",
        "      print(x.get_text())\n",
        "else:\n",
        "    print\n",
        "\n"
      ],
      "metadata": {
        "colab": {
          "base_uri": "https://localhost:8080/"
        },
        "id": "x0h9G--s6XGs",
        "outputId": "f4ca52fb-63f3-4755-cd4b-e4f77b79add4"
      },
      "execution_count": 8,
      "outputs": [
        {
          "output_type": "stream",
          "name": "stdout",
          "text": [
            "The following table gives some general information for the following programming languages:\n",
            "I think it's clear that, on a scale of 1-10, python is:\n",
            "Javascript (dynamic data) test:\n",
            "y u bad tho?\n",
            "Whᶐt hαppéns now¿\n",
            "sitemap\n",
            "Contact: Harrison@pythonprogramming.net.\n",
            "Programming is a superpower.\n"
          ]
        }
      ]
    },
    {
      "cell_type": "code",
      "source": [
        "#All the links on the page\n",
        "links = [link.get('href') for link in soup.find_all('a')]\n",
        "for x in links:\n",
        "    print(x)"
      ],
      "metadata": {
        "colab": {
          "base_uri": "https://localhost:8080/"
        },
        "id": "4gBcmrpA6g-A",
        "outputId": "97c5662c-f1bb-4bef-9b5b-020d1396123c"
      },
      "execution_count": 9,
      "outputs": [
        {
          "output_type": "stream",
          "name": "stdout",
          "text": [
            "/\n",
            "#\n",
            "/\n",
            "/+=1/\n",
            "/support/\n",
            "https://goo.gl/7zgAVQ\n",
            "/login/\n",
            "/register/\n",
            "/\n",
            "/+=1/\n",
            "/support/\n",
            "https://goo.gl/7zgAVQ\n",
            "/login/\n",
            "/register/\n",
            "https://www.crummy.com/software/BeautifulSoup/bs4/doc/\n",
            "/sitemap.xml\n",
            "/support-donate/\n",
            "/consulting/\n",
            "https://www.facebook.com/pythonprogramming.net/\n",
            "https://twitter.com/sentdex\n",
            "https://instagram.com/sentdex\n",
            "/about/tos/\n",
            "/about/privacy-policy/\n",
            "https://xkcd.com/353/\n"
          ]
        }
      ]
    },
    {
      "cell_type": "code",
      "source": [
        "#All the text content on the page\n",
        "text = soup.get_text()\n",
        "lines = [line.strip() for line in text.splitlines() if line.strip()]\n",
        "text = '\\n'.join(lines)\n",
        "print(text)\n"
      ],
      "metadata": {
        "colab": {
          "base_uri": "https://localhost:8080/"
        },
        "id": "7mSKFfNn10q-",
        "outputId": "34eee7b3-e5e4-42c4-994b-65a53f7d3353"
      },
      "execution_count": 14,
      "outputs": [
        {
          "output_type": "stream",
          "name": "stdout",
          "text": [
            "Python Programming Tutorials\n",
            "search\n",
            "Home\n",
            "+=1\n",
            "Support the Content\n",
            "Community\n",
            "Log in\n",
            "Sign up\n",
            "Home\n",
            "+=1\n",
            "Support the Content\n",
            "Community\n",
            "Log in\n",
            "Sign up\n",
            "Oh, hello! This is a wonderful page meant to let you practice web scraping. This page was originally created to help people work with the Beautiful Soup 4 library.\n",
            "The following table gives some general information for the following programming languages:\n",
            "Python\n",
            "Pascal\n",
            "Lisp\n",
            "D#\n",
            "Cobol\n",
            "Fortran\n",
            "Haskell\n",
            "Program Name\n",
            "Internet Points\n",
            "Kittens?\n",
            "Python\n",
            "932914021\n",
            "Definitely\n",
            "Pascal\n",
            "532\n",
            "Unlikely\n",
            "Lisp\n",
            "1522\n",
            "Uncertain\n",
            "D#\n",
            "12\n",
            "Possibly\n",
            "Cobol\n",
            "3\n",
            "No.\n",
            "Fortran\n",
            "52124\n",
            "Yes.\n",
            "Haskell\n",
            "24\n",
            "lol.\n",
            "I think it's clear that, on a scale of 1-10, python is:\n",
            "Javascript (dynamic data) test:\n",
            "y u bad tho?\n",
            "Beautiful is better than ugly.\n",
            "Explicit is better than implicit.\n",
            "Simple is better than complex.\n",
            "Complex is better than complicated.\n",
            "Flat is better than nested.\n",
            "Sparse is better than dense.\n",
            "Readability counts.\n",
            "Special cases aren't special enough to break the rules.\n",
            "Although practicality beats purity.\n",
            "Errors should never pass silently.\n",
            "Unless explicitly silenced.\n",
            "In the face of ambiguity, refuse the temptation to guess.\n",
            "There should be one-- and preferably only one --obvious way to do it.\n",
            "Although that way may not be obvious at first unless you're Dutch.\n",
            "Now is better than never.\n",
            "Although never is often better than *right* now.\n",
            "If the implementation is hard to explain, it's a bad idea.\n",
            "If the implementation is easy to explain, it may be a good idea.\n",
            "Namespaces are one honking great idea -- let's do more of those!\n",
            "Whᶐt hαppéns now¿\n",
            "sitemap\n",
            "You've reached the end!\n",
            "Contact: Harrison@pythonprogramming.net.\n",
            "Support this Website!\n",
            "Consulting and Contracting\n",
            "Facebook\n",
            "Twitter\n",
            "Instagram\n",
            "Legal stuff:\n",
            "Terms and Conditions\n",
            "Privacy Policy\n",
            "Programming is a superpower.\n",
            "© OVER 9000! PythonProgramming.net\n"
          ]
        }
      ]
    }
  ]
}